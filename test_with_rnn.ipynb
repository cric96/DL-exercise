{
 "cells": [
  {
   "cell_type": "markdown",
   "metadata": {
    "colab_type": "text",
    "id": "view-in-github"
   },
   "source": [
    "<a href=\"https://colab.research.google.com/github/cric96/DL-exercise/blob/main/test_with_rnn.ipynb\" target=\"_parent\"><img src=\"https://colab.research.google.com/assets/colab-badge.svg\" alt=\"Open In Colab\"/></a>"
   ]
  },
  {
   "cell_type": "markdown",
   "metadata": {
    "id": "Ji2Yp08lPMHJ"
   },
   "source": [
    "# Neural Networks applied in Aggregate Computing\n",
    "In this notebook, I tried to apply Neural Network and Recurrent Neural Networks (RNN) in the context of Aggregate Computing (AC).\n",
    "\n",
    "## Model\n",
    "\n",
    "Usually, RNN are trained in indipendent sequences. In case of Aggregate Computing, the temporal sequence are correlated with each other following a neighbourhood policy. \n",
    "\n",
    "The key idea here is:\n",
    "- express the system as a graph. Offline we can imagine to access to the entire system\n",
    "- in each time step, we aggregate data from the neighbours and then we use RNN to compute the right output"
   ]
  },
  {
   "cell_type": "markdown",
   "metadata": {
    "id": "tihJbe7wP_L7"
   },
   "source": [
    "# Imports"
   ]
  },
  {
   "cell_type": "code",
   "execution_count": 3,
   "metadata": {
    "id": "ld4IkeCHdg9f"
   },
   "outputs": [],
   "source": [
    "import tensorflow as tf\n",
    "from datetime import datetime\n",
    "from numpy.random import seed"
   ]
  },
  {
   "cell_type": "markdown",
   "metadata": {
    "id": "DCXGw5707Rv7"
   },
   "source": [
    "# Simple Graph\n",
    "\n",
    "In this model, I model graph as:\n",
    "$G = (N, E)$\n",
    "\n",
    "Where, $N$ contains a feature vector and an output vector.\n",
    "\n",
    "$E$ is expressed as adjacency matrix, so: $E_{i,j} = 1$ iff $i$ is neighbour of $j$.\n",
    "\n",
    "Input is a matrix contains the concatenation of feature vector and output vector, something like: $ I(n) = <f(n), o(n)>$.\n",
    "Where $<a, b, c>$ means the column-wise fector concatenation. \n",
    "For instance, giving a vector $a = [1, 2]$ and $b = [2, 3]$, $<a,b> = [1, 2, 2, 3]$.\n",
    "\n",
    "The neighbour aggregation data can be computed leveraging matrix multiplication --- so increasing traning performance.\n",
    "$$ reduction(E * F) $$\n",
    "Where F contains all node features.\n",
    "$reduction$ is a multiset function (e.g. summation, mean,...).\n",
    "\n",
    "Pay attention, this model can be easly used in a decentralized situation.\n",
    "Indeed, the data aggregation will be done without global adjency matrix but only retrieving neighbour data. The dense layer already works locally."
   ]
  },
  {
   "cell_type": "code",
   "execution_count": 41,
   "metadata": {
    "id": "DaicADIO7U34"
   },
   "outputs": [],
   "source": [
    "n = 50000\n",
    "feature = tf.constant([\n",
    "                     [1], \n",
    "                     [0],\n",
    "                     [0],\n",
    "                     [0],\n",
    "                    ], dtype=tf.float32)\n",
    "output = tf.constant([\n",
    "                     [0], \n",
    "                     [n],\n",
    "                     [n],\n",
    "                     [n],\n",
    "                    ], dtype=tf.float32)\n",
    "\n",
    "input = tf.concat([feature, output], axis = 1)\n",
    "input = input[:,tf.newaxis, :]\n",
    "\n",
    "neigh = tf.constant([\n",
    "                     [n, 1, n, n], \n",
    "                     [1, n, 1, n],\n",
    "                     [n, 1, n, 1],\n",
    "                     [n, n, 1, n],\n",
    "                    ], dtype=tf.float32)\n",
    "\n",
    "ground = tf.constant([\n",
    "                     [1, 0], \n",
    "                     [0, 1],\n",
    "                     [0, 2],\n",
    "                     [0, 3],\n",
    "                    ], dtype=tf.float32)"
   ]
  },
  {
   "cell_type": "markdown",
   "metadata": {
    "id": "KRY-rUZ27Y0E"
   },
   "source": [
    "# Forward Pass\n",
    "\n",
    "Taking the output of previous step, adjecency matrix, and feature vector, this function compute the value of the next evaluation.\n",
    "So\n",
    "1. compute neighbourhood feature via aggregation\n",
    "2. concat neighbourhood feature with local feature and previous output\n",
    "3. perform a forward pass of a neural network.\n"
   ]
  },
  {
   "cell_type": "code",
   "execution_count": 22,
   "metadata": {
    "id": "UKorlgUN7arq"
   },
   "outputs": [],
   "source": [
    "def forward(result, neigh, feature, model, log_enable=False):\n",
    "  if(log_enable):\n",
    "    print(\"Input = \", result)\n",
    "  reshape = tf.reshape(result[:,:, 1], feature.shape[0])\n",
    "  neigh_evaluation = tf.reduce_min(tf.multiply(neigh, reshape), 1) ## pass reduction strategy\n",
    "  input_network = tf.concat([result[:,:, 0], neigh_evaluation[:, tf.newaxis]], 1)\n",
    "  if(log_enable):\n",
    "    print(\"Neighbour Aggregation = \", input_network[:, tf.newaxis])\n",
    "  result = model(input_network[:, tf.newaxis])\n",
    "  result = tf.reshape(result, feature.shape[:2]) ## adapt the shape in order to work both in linear model and in the recurrent model.\n",
    "  result = tf.concat([feature, result], axis = 1)\n",
    "  if(log_enable):\n",
    "    print(\"Output = \", result)\n",
    "  return tf.expand_dims(result, [1])"
   ]
  },
  {
   "cell_type": "markdown",
   "metadata": {
    "id": "0aJqP660S5W4"
   },
   "source": [
    "# Model creation\n",
    "Create a sequential model given layers and the input shape"
   ]
  },
  {
   "cell_type": "code",
   "execution_count": 23,
   "metadata": {
    "id": "CdXR3Tb3TV8l"
   },
   "outputs": [],
   "source": [
    "def create_model(input_shape, layers):\n",
    "  input_layer = tf.keras.layers.InputLayer(input_shape=input.shape[1:], batch_size=input_shape[0])\n",
    "  layers.insert(0, input_layer)\n",
    "  return tf.keras.Sequential(layers)"
   ]
  },
  {
   "cell_type": "markdown",
   "metadata": {
    "id": "ibOdTAPsnGEf"
   },
   "source": [
    "## Recurrent model\n",
    "Simple network creation with multiple recurrent layer \n"
   ]
  },
  {
   "cell_type": "code",
   "execution_count": 24,
   "metadata": {
    "id": "8oNvEE-Bh4B1"
   },
   "outputs": [],
   "source": [
    "def instantiate_layers():\n",
    "  return [\n",
    "      tf.keras.layers.GRU(units = 4, activation='relu', return_sequences=True, stateful=True),\n",
    "      tf.keras.layers.GRU(units = 1, activation='relu', return_sequences=False, stateful=True, bias_initializer='ones'),\n",
    "  ]"
   ]
  },
  {
   "cell_type": "markdown",
   "metadata": {
    "id": "eLAigDrToouO"
   },
   "source": [
    "## Linear Model\n",
    "Simple network with multiple linear layer"
   ]
  },
  {
   "cell_type": "code",
   "execution_count": 44,
   "metadata": {
    "id": "9DneyuoJoltR"
   },
   "outputs": [],
   "source": [
    "def instantiate_linear_layers():\n",
    "  return [\n",
    "          tf.keras.layers.Dense(units = 256, activation='relu'),\n",
    "          tf.keras.layers.Dense(units = 128, activation='relu'),\n",
    "          tf.keras.layers.Dense(units = 1, activation='relu', bias_initializer='ones')\n",
    "  ]"
   ]
  },
  {
   "cell_type": "markdown",
   "metadata": {
    "id": "I2iXarjQrq10"
   },
   "source": [
    "## Model instatiation\n"
   ]
  },
  {
   "cell_type": "code",
   "execution_count": 26,
   "metadata": {
    "id": "JFidlC53rvyL"
   },
   "outputs": [],
   "source": [
    "linear = \"linear\"\n",
    "recurrent = \"recurrent\"\n",
    "same = \"same\"\n",
    "\n",
    "def instatiate(input, mode = \"same\"):\n",
    "  if mode == linear:\n",
    "    return create_model(input.shape, instantiate_linear_layers())\n",
    "  elif mode == recurrent:\n",
    "    return create_model(input.shape, instantiate_layers())\n",
    "\n",
    "def copy_model(model, mode = \"same\", input = \"\"):\n",
    "  if mode == linear:\n",
    "    return model\n",
    "  elif mode == recurrent:\n",
    "    change_model = instatiate(input, recurrent)\n",
    "    change_model.set_weights(model.get_weights())\n",
    "    return change_model\n",
    "mode = linear\n",
    "model = instatiate(input, linear)"
   ]
  },
  {
   "cell_type": "markdown",
   "metadata": {
    "id": "kZquNuutUD-n"
   },
   "source": [
    "# Train function"
   ]
  },
  {
   "cell_type": "code",
   "execution_count": 29,
   "metadata": {
    "id": "xvzeO1W3UGi4"
   },
   "outputs": [],
   "source": [
    "## TODO pass input and network\n",
    "def train(model, data, iteration, stabilise_in, stabilisation_check, loss, optimizer, each=100):\n",
    "  input, neigh, feature, ground = data\n",
    "  for j in range(iteration):\n",
    "    with tf.GradientTape() as tape:\n",
    "      result = input\n",
    "      to_backprop = 0\n",
    "      for i in range(stabilise_in):\n",
    "        result = forward(result, neigh, feature, model)\n",
    "      for i in range(stabilisation_check):\n",
    "        result = forward(result, neigh, feature, model)\n",
    "        to_backprop += 1 / stabilisation_check * loss(ground, result[:, 0, :])\n",
    "      model.reset_states()\n",
    "      gradient = tape.gradient(to_backprop, model.weights)\n",
    "      optimizer.apply_gradients(zip(gradient, model.weights))\n",
    "    if(j % each == 0):\n",
    "      print(\"Epoch \", j ,\"Loss = \", tf.reduce_sum(to_backprop))  "
   ]
  },
  {
   "cell_type": "markdown",
   "metadata": {
    "id": "WFGPPgD_hdHi"
   },
   "source": [
    "\n",
    "## Train loop\n",
    "Here I want only to find a function that overfits, so it solve this specific problem.\n"
   ]
  },
  {
   "cell_type": "code",
   "execution_count": 45,
   "metadata": {
    "colab": {
     "base_uri": "https://localhost:8080/"
    },
    "id": "56wyzp3MdzYy",
    "outputId": "16270c05-acb3-40a5-cd24-f5a114f12706"
   },
   "outputs": [
    {
     "name": "stdout",
     "output_type": "stream",
     "text": [
      "Epoch  0 Loss =  tf.Tensor(19626.379, shape=(), dtype=float32)\n",
      "Epoch  50 Loss =  tf.Tensor(19460.229, shape=(), dtype=float32)\n",
      "Epoch  100 Loss =  tf.Tensor(19159.008, shape=(), dtype=float32)\n",
      "Epoch  150 Loss =  tf.Tensor(19373.82, shape=(), dtype=float32)\n",
      "Epoch  200 Loss =  tf.Tensor(19295.266, shape=(), dtype=float32)\n",
      "Epoch  250 Loss =  tf.Tensor(19286.559, shape=(), dtype=float32)\n",
      "Epoch  300 Loss =  tf.Tensor(19284.146, shape=(), dtype=float32)\n",
      "Epoch  350 Loss =  tf.Tensor(19281.268, shape=(), dtype=float32)\n",
      "Epoch  400 Loss =  tf.Tensor(19278.201, shape=(), dtype=float32)\n",
      "Epoch  450 Loss =  tf.Tensor(19274.95, shape=(), dtype=float32)\n",
      "Epoch  500 Loss =  tf.Tensor(19271.516, shape=(), dtype=float32)\n",
      "Epoch  550 Loss =  tf.Tensor(19267.91, shape=(), dtype=float32)\n",
      "Epoch  600 Loss =  tf.Tensor(19264.129, shape=(), dtype=float32)\n",
      "Epoch  650 Loss =  tf.Tensor(19260.168, shape=(), dtype=float32)\n",
      "Epoch  700 Loss =  tf.Tensor(19256.049, shape=(), dtype=float32)\n",
      "Epoch  750 Loss =  tf.Tensor(19251.762, shape=(), dtype=float32)\n",
      "Epoch  800 Loss =  tf.Tensor(19247.297, shape=(), dtype=float32)\n",
      "Epoch  850 Loss =  tf.Tensor(19263.646, shape=(), dtype=float32)\n",
      "Epoch  900 Loss =  tf.Tensor(19260.98, shape=(), dtype=float32)\n",
      "Epoch  950 Loss =  tf.Tensor(19257.547, shape=(), dtype=float32)\n",
      "Epoch  1000 Loss =  tf.Tensor(19254.0, shape=(), dtype=float32)\n",
      "Epoch  1050 Loss =  tf.Tensor(19250.326, shape=(), dtype=float32)\n",
      "Epoch  1100 Loss =  tf.Tensor(19246.527, shape=(), dtype=float32)\n",
      "Epoch  1150 Loss =  tf.Tensor(6878.9375, shape=(), dtype=float32)\n",
      "Epoch  1200 Loss =  tf.Tensor(6641.0156, shape=(), dtype=float32)\n",
      "Epoch  1250 Loss =  tf.Tensor(6453.3154, shape=(), dtype=float32)\n",
      "Epoch  1300 Loss =  tf.Tensor(6343.3115, shape=(), dtype=float32)\n",
      "Epoch  1350 Loss =  tf.Tensor(6227.5576, shape=(), dtype=float32)\n",
      "Epoch  1400 Loss =  tf.Tensor(6100.8457, shape=(), dtype=float32)\n",
      "Epoch  1450 Loss =  tf.Tensor(5977.205, shape=(), dtype=float32)\n",
      "Epoch  1500 Loss =  tf.Tensor(5845.4106, shape=(), dtype=float32)\n",
      "Epoch  1550 Loss =  tf.Tensor(5724.439, shape=(), dtype=float32)\n",
      "Epoch  1600 Loss =  tf.Tensor(5951.6665, shape=(), dtype=float32)\n",
      "Epoch  1650 Loss =  tf.Tensor(5553.9233, shape=(), dtype=float32)\n",
      "Epoch  1700 Loss =  tf.Tensor(5416.385, shape=(), dtype=float32)\n",
      "Epoch  1750 Loss =  tf.Tensor(5283.284, shape=(), dtype=float32)\n",
      "Epoch  1800 Loss =  tf.Tensor(5140.2534, shape=(), dtype=float32)\n",
      "Epoch  1850 Loss =  tf.Tensor(4985.2705, shape=(), dtype=float32)\n",
      "Epoch  1900 Loss =  tf.Tensor(5386.1934, shape=(), dtype=float32)\n",
      "Epoch  1950 Loss =  tf.Tensor(5620.6025, shape=(), dtype=float32)\n",
      "Epoch  2000 Loss =  tf.Tensor(4850.532, shape=(), dtype=float32)\n",
      "Epoch  2050 Loss =  tf.Tensor(4685.2124, shape=(), dtype=float32)\n",
      "Epoch  2100 Loss =  tf.Tensor(4574.9653, shape=(), dtype=float32)\n",
      "Epoch  2150 Loss =  tf.Tensor(4694.149, shape=(), dtype=float32)\n",
      "Epoch  2200 Loss =  tf.Tensor(4520.159, shape=(), dtype=float32)\n",
      "Epoch  2250 Loss =  tf.Tensor(4407.5586, shape=(), dtype=float32)\n",
      "Epoch  2300 Loss =  tf.Tensor(4338.037, shape=(), dtype=float32)\n",
      "Epoch  2350 Loss =  tf.Tensor(4424.1533, shape=(), dtype=float32)\n",
      "Epoch  2400 Loss =  tf.Tensor(4262.501, shape=(), dtype=float32)\n",
      "Epoch  2450 Loss =  tf.Tensor(4182.209, shape=(), dtype=float32)\n",
      "Epoch  2500 Loss =  tf.Tensor(4352.3267, shape=(), dtype=float32)\n",
      "Epoch  2550 Loss =  tf.Tensor(4104.795, shape=(), dtype=float32)\n",
      "Epoch  2600 Loss =  tf.Tensor(4012.683, shape=(), dtype=float32)\n",
      "Epoch  2650 Loss =  tf.Tensor(4076.7822, shape=(), dtype=float32)\n",
      "Epoch  2700 Loss =  tf.Tensor(3901.2434, shape=(), dtype=float32)\n",
      "Epoch  2750 Loss =  tf.Tensor(4257.1064, shape=(), dtype=float32)\n",
      "Epoch  2800 Loss =  tf.Tensor(3788.3794, shape=(), dtype=float32)\n",
      "Epoch  2850 Loss =  tf.Tensor(3926.8828, shape=(), dtype=float32)\n",
      "Epoch  2900 Loss =  tf.Tensor(3675.611, shape=(), dtype=float32)\n",
      "Epoch  2950 Loss =  tf.Tensor(3693.817, shape=(), dtype=float32)\n",
      "tf.Tensor(\n",
      "[[[ 1.         0.8962829]]\n",
      "\n",
      " [[ 0.         3.547257 ]]\n",
      "\n",
      " [[ 0.         8.220903 ]]\n",
      "\n",
      " [[ 0.        14.3552475]]\n",
      "\n",
      " [[ 0.        77.58306  ]]\n",
      "\n",
      " [[ 0.        77.58308  ]]\n",
      "\n",
      " [[ 0.        77.58305  ]]\n",
      "\n",
      " [[ 0.        77.58307  ]]], shape=(8, 1, 2), dtype=float32)\n"
     ]
    }
   ],
   "source": [
    "#seed(42)\n",
    "#tf.random.set_seed(42)\n",
    "model = instatiate(input, mode) ## comment to avoid the recomputation of weights\n",
    "\n",
    "iteration = 3000\n",
    "stabilise_in = 4  \n",
    "stabilisation_check = 10\n",
    "\n",
    "loss = tf.losses.mse\n",
    "optimizer = tf.optimizers.Adam()\n",
    "data = (input, neigh, feature, ground)\n",
    "train(model, data, iteration, stabilise_in, stabilisation_check, loss, optimizer, 50)\n",
    "\n",
    "result = input\n",
    "for i in range(10):\n",
    "  result = forward(result, neigh, feature, model)\n",
    "print(result)\n",
    "model.reset_states()"
   ]
  },
  {
   "cell_type": "markdown",
   "metadata": {},
   "source": [
    "## Save model"
   ]
  },
  {
   "cell_type": "code",
   "execution_count": 15,
   "metadata": {},
   "outputs": [
    {
     "name": "stdout",
     "output_type": "stream",
     "text": [
      "INFO:tensorflow:Assets written to: model_dense_1/assets\n"
     ]
    }
   ],
   "source": [
    "model.save('model_dense_1')"
   ]
  },
  {
   "cell_type": "markdown",
   "metadata": {
    "id": "RqbsEJEnWOc7"
   },
   "source": [
    "# Check result, generalisation\n",
    "In this part, I try to use the same network in another graph, to see if it can be used in different graphs.\n",
    "\n",
    "## Linear network"
   ]
  },
  {
   "cell_type": "code",
   "execution_count": 20,
   "metadata": {
    "colab": {
     "base_uri": "https://localhost:8080/"
    },
    "id": "1LDTXF5knmGv",
    "outputId": "00d048a0-6c41-42d8-b33f-a721c8a66ee6"
   },
   "outputs": [
    {
     "name": "stdout",
     "output_type": "stream",
     "text": [
      "tf.Tensor(\n",
      "[[[ 0. nan]]\n",
      "\n",
      " [[ 0. nan]]\n",
      "\n",
      " [[ 0. nan]]\n",
      "\n",
      " [[ 0. nan]]\n",
      "\n",
      " [[ 0. nan]]], shape=(5, 1, 2), dtype=float32)\n"
     ]
    }
   ],
   "source": [
    "n = 50000\n",
    "feature_validation = tf.constant([\n",
    "                     [0], \n",
    "                     [0],\n",
    "                     [0],\n",
    "                     [0],\n",
    "                     [0]\n",
    "                    ], dtype=tf.float32)\n",
    "output_validation = tf.constant([\n",
    "                     [0], \n",
    "                     [1],\n",
    "                     [2],\n",
    "                     [3],\n",
    "                     [4]\n",
    "                    ], dtype=tf.float32)\n",
    "input_validation = tf.concat([feature_validation, output_validation], axis = 1)\n",
    "input_validation = input_validation[:,tf.newaxis, :]\n",
    "neigh_validation = tf.constant([\n",
    "                     [n, 1, n, n, n], \n",
    "                     [1, n, 1, n, n],\n",
    "                     [n, 1, n, 1, n],\n",
    "                     [n, n, 1, n, 1],\n",
    "                     [n, n, n, 1, n],\n",
    "                    ], dtype=tf.float32)\n",
    "\n",
    "change_model = copy_model(model, mode, input_validation)\n",
    "\n",
    "result_validation = input_validation\n",
    "model.reset_states()\n",
    "for i in range(1000):\n",
    "  result_validation = forward(result_validation, neigh_validation, feature_validation, change_model, False)\n",
    "print(result_validation)"
   ]
  },
  {
   "cell_type": "markdown",
   "metadata": {},
   "source": [
    "## Square like"
   ]
  },
  {
   "cell_type": "code",
   "execution_count": 12,
   "metadata": {},
   "outputs": [
    {
     "name": "stdout",
     "output_type": "stream",
     "text": [
      "tf.Tensor(\n",
      "[[[1.         0.12369008]]\n",
      "\n",
      " [[0.         0.9757423 ]]\n",
      "\n",
      " [[0.         0.9757423 ]]\n",
      "\n",
      " [[0.         1.9846121 ]]], shape=(4, 1, 2), dtype=float32)\n"
     ]
    }
   ],
   "source": [
    "n = 50000\n",
    "feature_validation = tf.constant([\n",
    "                     [1], \n",
    "                     [0],\n",
    "                     [0],\n",
    "                     [0],\n",
    "                    ], dtype=tf.float32)\n",
    "output_validation = tf.constant([\n",
    "                     [0], \n",
    "                     [n],\n",
    "                     [n],\n",
    "                     [n],\n",
    "                    ], dtype=tf.float32)\n",
    "input_validation = tf.concat([feature_validation, output_validation], axis = 1)\n",
    "input_validation = input_validation[:,tf.newaxis, :]\n",
    "neigh_validation = tf.constant([\n",
    "                     [n, 1, 1, n], \n",
    "                     [1, n, n, 1],\n",
    "                     [1, n, n, 1],\n",
    "                     [n, 1, 1, n],\n",
    "                    ], dtype=tf.float32)\n",
    "\n",
    "change_model = copy_model(model, mode, input_validation)\n",
    "\n",
    "result_validation = input_validation\n",
    "model.reset_states() ## if has recurrent layers\n",
    "for i in range(10):\n",
    "  result_validation = forward(result_validation, neigh_validation, feature_validation, change_model, False)\n",
    "print(result_validation)"
   ]
  },
  {
   "cell_type": "markdown",
   "metadata": {},
   "source": [
    "## Local test"
   ]
  },
  {
   "cell_type": "code",
   "execution_count": 14,
   "metadata": {},
   "outputs": [
    {
     "name": "stdout",
     "output_type": "stream",
     "text": [
      "tf.Tensor([[102.46612]], shape=(1, 1), dtype=float32)\n",
      "tf.Tensor([[11.141671]], shape=(1, 1), dtype=float32)\n"
     ]
    }
   ],
   "source": [
    "print(model(tf.constant([[0, 100]]))) ## should be ~ 101\n",
    "print(model(tf.constant([[0, 10]]))) ## should be ~ 11"
   ]
  }
 ],
 "metadata": {
  "colab": {
   "authorship_tag": "ABX9TyP9O5CIu3uDdkZ/uIe7V0gL",
   "collapsed_sections": [],
   "include_colab_link": true,
   "name": "test-with-rnn.ipynb",
   "provenance": []
  },
  "kernelspec": {
   "display_name": "Python 3",
   "language": "python",
   "name": "python3"
  },
  "language_info": {
   "codemirror_mode": {
    "name": "ipython",
    "version": 3
   },
   "file_extension": ".py",
   "mimetype": "text/x-python",
   "name": "python",
   "nbconvert_exporter": "python",
   "pygments_lexer": "ipython3",
   "version": "3.8.8"
  }
 },
 "nbformat": 4,
 "nbformat_minor": 4
}
