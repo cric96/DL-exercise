{
  "nbformat": 4,
  "nbformat_minor": 0,
  "metadata": {
    "colab": {
      "name": "test-with-rnn.ipynb",
      "provenance": [],
      "collapsed_sections": [],
      "authorship_tag": "ABX9TyP9O5CIu3uDdkZ/uIe7V0gL",
      "include_colab_link": true
    },
    "kernelspec": {
      "name": "python3",
      "display_name": "Python 3"
    },
    "language_info": {
      "name": "python"
    }
  },
  "cells": [
    {
      "cell_type": "markdown",
      "metadata": {
        "id": "view-in-github",
        "colab_type": "text"
      },
      "source": [
        "<a href=\"https://colab.research.google.com/github/cric96/DL-exercise/blob/main/test_with_rnn.ipynb\" target=\"_parent\"><img src=\"https://colab.research.google.com/assets/colab-badge.svg\" alt=\"Open In Colab\"/></a>"
      ]
    },
    {
      "cell_type": "markdown",
      "metadata": {
        "id": "Ji2Yp08lPMHJ"
      },
      "source": [
        "# Recurrent Neural Network applied in Aggregate Computing\n",
        "In this notebook, I tried to apply Recurrent Neural Networks (RNN) in the context of Aggregate Computing (AC).\n",
        "\n",
        "## Model\n",
        "\n",
        "Usually, RNN are trained in indipendent sequences. In case of Aggregate Computing, the temporal sequence are correlated with each other following a neighbourhood policy. \n",
        "\n",
        "The key idea here is:\n",
        "- express the system as a graph. Offline we can imagine to access to the entire system\n",
        "- in each time step, we aggregate data from the neighbours and then we use RNN to compute the right output"
      ]
    },
    {
      "cell_type": "markdown",
      "metadata": {
        "id": "tihJbe7wP_L7"
      },
      "source": [
        "# Imports"
      ]
    },
    {
      "cell_type": "code",
      "metadata": {
        "id": "ld4IkeCHdg9f"
      },
      "source": [
        "import tensorflow as tf\n",
        "import tensorboard\n",
        "from datetime import datetime\n",
        "from numpy.random import seed\n",
        "%load_ext tensorboard"
      ],
      "execution_count": 1,
      "outputs": []
    },
    {
      "cell_type": "markdown",
      "metadata": {
        "id": "DCXGw5707Rv7"
      },
      "source": [
        "# Simple Graph\n",
        "\n",
        "In this model, I model graph as:\n",
        "$G = (N, E)$\n",
        "\n",
        "Where, $N$ contains a feature vector and an output vector.\n",
        "\n",
        "$E$ is expressed as adjacency matrix, so: $E_{i,j} = 1$ iff $i$ is neighbour of $j$.\n",
        "\n",
        "Input is a matrix contains the concatenation of feature vector and output vector, something like: $ I(n) = <f(n), o(n)>$.\n",
        "Where $<a, b, c>$ means the column-wise fector concatenation. \n",
        "For instance, giving a vector $a = [1, 2]$ and $b = [2, 3]$, $<a,b> = [1, 2, 2, 3]$.\n",
        "\n",
        "The neighbour aggregation data can be computed leveraging matrix multiplication --- so increasing traning performance.\n",
        "$$ reduction(E * F) $$\n",
        "Where F contains all node features.\n",
        "$reduction$ is a multiset function (e.g. summation, mean,...).\n",
        "\n",
        "Pay attention, this model can be easly used in a decentralized situation.\n",
        "Indeed, the data aggregation will be done without global adjency matrix but only retrieving neighbour data. The dense layer already works locally."
      ]
    },
    {
      "cell_type": "code",
      "metadata": {
        "id": "DaicADIO7U34"
      },
      "source": [
        "n = 50000\n",
        "feature = tf.constant([\n",
        "                     [1], \n",
        "                     [0],\n",
        "                     [0],\n",
        "                     [0],\n",
        "                    ], dtype=tf.float32)\n",
        "output = tf.constant([\n",
        "                     [0], \n",
        "                     [n],\n",
        "                     [n],\n",
        "                     [n],\n",
        "                    ], dtype=tf.float32)\n",
        "\n",
        "input = tf.concat([feature, output], axis = 1)\n",
        "input = input[:,tf.newaxis, :]\n",
        "\n",
        "neigh = tf.constant([\n",
        "                     [n, 1, n, n], \n",
        "                     [1, n, 1, n],\n",
        "                     [n, 1, n, 1],\n",
        "                     [n, n, 1, n],\n",
        "                    ], dtype=tf.float32)\n",
        "\n",
        "ground = tf.constant([\n",
        "                     [1, 0], \n",
        "                     [0, 1],\n",
        "                     [0, 2],\n",
        "                     [0, 3],\n",
        "                    ], dtype=tf.float32)"
      ],
      "execution_count": 2,
      "outputs": []
    },
    {
      "cell_type": "markdown",
      "metadata": {
        "id": "KRY-rUZ27Y0E"
      },
      "source": [
        "# Forward Pass\n",
        "\n",
        "Taking the output of previous step, adjecency matrix, and feature vector, this function compute the value of the next evaluation.\n",
        "So\n",
        "1. compute neighbourhood feature via aggregation\n",
        "2. concat neighbourhood feature with local feature and previous output\n",
        "3. perform a forward pass of a neural network.\n"
      ]
    },
    {
      "cell_type": "code",
      "metadata": {
        "id": "UKorlgUN7arq"
      },
      "source": [
        "def forward(result, neigh, feature, eval_logic, log_enable=False):\n",
        "  if(log_enable):\n",
        "    print(\"Input = \", result)\n",
        "  reshape = tf.reshape(result[:,:, 1], feature.shape[0])\n",
        "  neigh_evaluation = tf.reduce_min(tf.multiply(neigh, reshape), 1) ## pass reduction strategy\n",
        "  input_network = tf.concat([result[:,:, 0], neigh_evaluation[:, tf.newaxis]], 1)\n",
        "  if(log_enable):\n",
        "    print(\"Neighbour Aggregation = \", input_network[:, tf.newaxis])\n",
        "  result = eval_logic(input_network[:, tf.newaxis])\n",
        "  result = tf.reshape(result, feature.shape[:2]) ## adapt the shape in order to work both in linear model and in the recurrent model.\n",
        "  result = tf.concat([feature, result], axis = 1)\n",
        "  if(log_enable):\n",
        "    print(\"Output = \", result)\n",
        "  return tf.expand_dims(result, [1])"
      ],
      "execution_count": 31,
      "outputs": []
    },
    {
      "cell_type": "markdown",
      "metadata": {
        "id": "0aJqP660S5W4"
      },
      "source": [
        "# Model creation\n",
        "Create a sequential model given layers and the input shape"
      ]
    },
    {
      "cell_type": "code",
      "metadata": {
        "id": "CdXR3Tb3TV8l"
      },
      "source": [
        "def create_model(input_shape, layers):\n",
        "  input_layer = tf.keras.layers.InputLayer(input_shape=input.shape[1:], batch_size=input_shape[0])\n",
        "  layers.insert(0, input_layer)\n",
        "  return tf.keras.Sequential(layers)"
      ],
      "execution_count": 11,
      "outputs": []
    },
    {
      "cell_type": "markdown",
      "metadata": {
        "id": "ibOdTAPsnGEf"
      },
      "source": [
        "## Recurrent model\n",
        "Simple network creation with multiple recurrent layer \n"
      ]
    },
    {
      "cell_type": "code",
      "metadata": {
        "id": "8oNvEE-Bh4B1"
      },
      "source": [
        "def instantiate_layers():\n",
        "  return [\n",
        "      tf.keras.layers.GRU(units = 4, activation='relu', return_sequences=True, stateful=True),\n",
        "      tf.keras.layers.GRU(units = 1, activation='relu', return_sequences=False, stateful=True, bias_initializer='ones'),\n",
        "  ]"
      ],
      "execution_count": 47,
      "outputs": []
    },
    {
      "cell_type": "markdown",
      "metadata": {
        "id": "eLAigDrToouO"
      },
      "source": [
        "## Linear Model\n",
        "Simple network with multiple linear layer"
      ]
    },
    {
      "cell_type": "code",
      "metadata": {
        "id": "9DneyuoJoltR"
      },
      "source": [
        "def instantiate_linear_layers():\n",
        "  return [\n",
        "          tf.keras.layers.Dense(units = 4, activation='relu'),\n",
        "          tf.keras.layers.Dense(units = 2, activation='relu'),\n",
        "          tf.keras.layers.Dense(units = 1, activation='relu', bias_initializer='ones')\n",
        "  ]"
      ],
      "execution_count": 48,
      "outputs": []
    },
    {
      "cell_type": "markdown",
      "metadata": {
        "id": "I2iXarjQrq10"
      },
      "source": [
        "## Model instatiation\n"
      ]
    },
    {
      "cell_type": "code",
      "metadata": {
        "id": "JFidlC53rvyL"
      },
      "source": [
        "linear = \"linear\"\n",
        "recurrent = \"recurrent\"\n",
        "same = \"same\"\n",
        "\n",
        "def instatiate(input, mode = \"same\"):\n",
        "  if mode == linear:\n",
        "    return create_model(input.shape, instantiate_linear_layers())\n",
        "  elif mode == recurrent:\n",
        "    return create_model(input.shape, instantiate_layers())\n",
        "\n",
        "def copy_model(model, mode = \"same\", input = \"\"):\n",
        "  if mode == linear:\n",
        "    return model\n",
        "  elif mode == recurrent:\n",
        "    change_model = instatiate(input, recurrent)\n",
        "    change_model.set_weights(model.get_weights())\n",
        "    return change_model\n",
        "model = instatiate(input, linear)"
      ],
      "execution_count": 87,
      "outputs": []
    },
    {
      "cell_type": "markdown",
      "metadata": {
        "id": "kZquNuutUD-n"
      },
      "source": [
        "# Train function"
      ]
    },
    {
      "cell_type": "code",
      "metadata": {
        "id": "xvzeO1W3UGi4"
      },
      "source": [
        "## TODO pass input and network\n",
        "def train(model, data, iteration, stabilise_in, stabilisation_check, loss, optimizer, each=100):\n",
        "  input, neigh, feature, ground = data\n",
        "  for j in range(iteration):\n",
        "    with tf.GradientTape() as tape:\n",
        "      result = input\n",
        "      to_backprop = 0\n",
        "      for i in range(stabilise_in):\n",
        "        result = forward(result, neigh, feature, model)\n",
        "      for i in range(stabilisation_check):\n",
        "        result = forward(result, neigh, feature, model)\n",
        "        to_backprop += 1 / stabilisation_check * loss(ground, result[:, 0, :])\n",
        "      model.reset_states()\n",
        "      gradient = tape.gradient(to_backprop, model.weights)\n",
        "      optimizer.apply_gradients(zip(gradient, model.weights))\n",
        "    if(j % each == 0):\n",
        "      print(\"Epoch \", j ,\"Loss = \", tf.reduce_sum(to_backprop))  "
      ],
      "execution_count": 32,
      "outputs": []
    },
    {
      "cell_type": "markdown",
      "metadata": {
        "id": "WFGPPgD_hdHi"
      },
      "source": [
        "\n",
        "## Train loop\n",
        "Here I want only to find a function that overfits, so it solve this specific problem.\n"
      ]
    },
    {
      "cell_type": "code",
      "metadata": {
        "colab": {
          "base_uri": "https://localhost:8080/"
        },
        "id": "56wyzp3MdzYy",
        "outputId": "16270c05-acb3-40a5-cd24-f5a114f12706"
      },
      "source": [
        "#seed(42)\n",
        "#tf.random.set_seed(42)\n",
        "mode = linear\n",
        "model = instatiate(input, mode) ## comment to avoid the recomputation of weights\n",
        "\n",
        "iteration = 3000\n",
        "stabilise_in = 4  \n",
        "stabilisation_check = 10\n",
        "\n",
        "loss = tf.losses.mse\n",
        "optimizer = tf.optimizers.Adam()\n",
        "data = (input, neigh, feature, ground)\n",
        "train(model, data, iteration, stabilise_in, stabilisation_check, loss, optimizer, 50)\n",
        "\n",
        "result = input\n",
        "for i in range(10):\n",
        "  result = forward(result, neigh, feature, model)\n",
        "print(result)\n",
        "model.reset_states()"
      ],
      "execution_count": 94,
      "outputs": [
        {
          "output_type": "stream",
          "text": [
            "Epoch  0 Loss =  tf.Tensor(3.3158703, shape=(), dtype=float32)\n",
            "Epoch  50 Loss =  tf.Tensor(3.033687, shape=(), dtype=float32)\n",
            "Epoch  100 Loss =  tf.Tensor(2.8891659, shape=(), dtype=float32)\n",
            "Epoch  150 Loss =  tf.Tensor(2.7644672, shape=(), dtype=float32)\n",
            "Epoch  200 Loss =  tf.Tensor(2.645883, shape=(), dtype=float32)\n",
            "Epoch  250 Loss =  tf.Tensor(2.527935, shape=(), dtype=float32)\n",
            "Epoch  300 Loss =  tf.Tensor(2.3823771, shape=(), dtype=float32)\n",
            "Epoch  350 Loss =  tf.Tensor(2.2101717, shape=(), dtype=float32)\n",
            "Epoch  400 Loss =  tf.Tensor(2.0130525, shape=(), dtype=float32)\n",
            "Epoch  450 Loss =  tf.Tensor(1.7766047, shape=(), dtype=float32)\n",
            "Epoch  500 Loss =  tf.Tensor(1.4793627, shape=(), dtype=float32)\n",
            "Epoch  550 Loss =  tf.Tensor(1.1043081, shape=(), dtype=float32)\n",
            "Epoch  600 Loss =  tf.Tensor(0.7028527, shape=(), dtype=float32)\n",
            "Epoch  650 Loss =  tf.Tensor(0.5089065, shape=(), dtype=float32)\n",
            "Epoch  700 Loss =  tf.Tensor(0.4170369, shape=(), dtype=float32)\n",
            "Epoch  750 Loss =  tf.Tensor(0.4007345, shape=(), dtype=float32)\n",
            "Epoch  800 Loss =  tf.Tensor(0.35821715, shape=(), dtype=float32)\n",
            "Epoch  850 Loss =  tf.Tensor(0.34140986, shape=(), dtype=float32)\n",
            "Epoch  900 Loss =  tf.Tensor(0.32561648, shape=(), dtype=float32)\n",
            "Epoch  950 Loss =  tf.Tensor(0.31073266, shape=(), dtype=float32)\n",
            "Epoch  1000 Loss =  tf.Tensor(0.2969698, shape=(), dtype=float32)\n",
            "Epoch  1050 Loss =  tf.Tensor(0.28406554, shape=(), dtype=float32)\n",
            "Epoch  1100 Loss =  tf.Tensor(0.27219525, shape=(), dtype=float32)\n",
            "Epoch  1150 Loss =  tf.Tensor(0.26117846, shape=(), dtype=float32)\n",
            "Epoch  1200 Loss =  tf.Tensor(0.25105175, shape=(), dtype=float32)\n",
            "Epoch  1250 Loss =  tf.Tensor(0.24181092, shape=(), dtype=float32)\n",
            "Epoch  1300 Loss =  tf.Tensor(0.23327549, shape=(), dtype=float32)\n",
            "Epoch  1350 Loss =  tf.Tensor(0.22552025, shape=(), dtype=float32)\n",
            "Epoch  1400 Loss =  tf.Tensor(0.21845935, shape=(), dtype=float32)\n",
            "Epoch  1450 Loss =  tf.Tensor(0.21199717, shape=(), dtype=float32)\n",
            "Epoch  1500 Loss =  tf.Tensor(0.20605409, shape=(), dtype=float32)\n",
            "Epoch  1550 Loss =  tf.Tensor(0.20059618, shape=(), dtype=float32)\n",
            "Epoch  1600 Loss =  tf.Tensor(0.19557898, shape=(), dtype=float32)\n",
            "Epoch  1650 Loss =  tf.Tensor(0.19093643, shape=(), dtype=float32)\n",
            "Epoch  1700 Loss =  tf.Tensor(0.18661948, shape=(), dtype=float32)\n",
            "Epoch  1750 Loss =  tf.Tensor(0.18254149, shape=(), dtype=float32)\n",
            "Epoch  1800 Loss =  tf.Tensor(0.17867862, shape=(), dtype=float32)\n",
            "Epoch  1850 Loss =  tf.Tensor(0.17506291, shape=(), dtype=float32)\n",
            "Epoch  1900 Loss =  tf.Tensor(0.17152692, shape=(), dtype=float32)\n",
            "Epoch  1950 Loss =  tf.Tensor(0.1681698, shape=(), dtype=float32)\n",
            "Epoch  2000 Loss =  tf.Tensor(0.16487895, shape=(), dtype=float32)\n",
            "Epoch  2050 Loss =  tf.Tensor(0.16164209, shape=(), dtype=float32)\n",
            "Epoch  2100 Loss =  tf.Tensor(0.15846063, shape=(), dtype=float32)\n",
            "Epoch  2150 Loss =  tf.Tensor(0.15533218, shape=(), dtype=float32)\n",
            "Epoch  2200 Loss =  tf.Tensor(0.15218994, shape=(), dtype=float32)\n",
            "Epoch  2250 Loss =  tf.Tensor(0.14905985, shape=(), dtype=float32)\n",
            "Epoch  2300 Loss =  tf.Tensor(0.14598118, shape=(), dtype=float32)\n",
            "Epoch  2350 Loss =  tf.Tensor(0.14292039, shape=(), dtype=float32)\n",
            "Epoch  2400 Loss =  tf.Tensor(0.13986167, shape=(), dtype=float32)\n",
            "Epoch  2450 Loss =  tf.Tensor(0.1367987, shape=(), dtype=float32)\n",
            "Epoch  2500 Loss =  tf.Tensor(0.1337275, shape=(), dtype=float32)\n",
            "Epoch  2550 Loss =  tf.Tensor(0.13064751, shape=(), dtype=float32)\n",
            "Epoch  2600 Loss =  tf.Tensor(0.12805022, shape=(), dtype=float32)\n",
            "Epoch  2650 Loss =  tf.Tensor(0.12579602, shape=(), dtype=float32)\n",
            "Epoch  2700 Loss =  tf.Tensor(0.12363716, shape=(), dtype=float32)\n",
            "Epoch  2750 Loss =  tf.Tensor(0.121489, shape=(), dtype=float32)\n",
            "Epoch  2800 Loss =  tf.Tensor(0.11932762, shape=(), dtype=float32)\n",
            "Epoch  2850 Loss =  tf.Tensor(0.11714895, shape=(), dtype=float32)\n",
            "Epoch  2900 Loss =  tf.Tensor(0.11503634, shape=(), dtype=float32)\n",
            "Epoch  2950 Loss =  tf.Tensor(0.11073772, shape=(), dtype=float32)\n",
            "tf.Tensor(\n",
            "[[[1.         0.41402665]]\n",
            "\n",
            " [[0.         0.9710152 ]]\n",
            "\n",
            " [[0.         1.810851  ]]\n",
            "\n",
            " [[0.         3.077168  ]]], shape=(4, 1, 2), dtype=float32)\n"
          ],
          "name": "stdout"
        }
      ]
    },
    {
      "cell_type": "markdown",
      "metadata": {
        "id": "RqbsEJEnWOc7"
      },
      "source": [
        "# Check result, generalisation\n",
        "In this part, I try to use the same network in another graph, to see if it can be used in different graphs."
      ]
    },
    {
      "cell_type": "code",
      "metadata": {
        "colab": {
          "base_uri": "https://localhost:8080/"
        },
        "id": "1LDTXF5knmGv",
        "outputId": "00d048a0-6c41-42d8-b33f-a721c8a66ee6"
      },
      "source": [
        "n = 50000\n",
        "feature_validation = tf.constant([\n",
        "                     [1], \n",
        "                     [0],\n",
        "                     [0],\n",
        "                     [0],\n",
        "                     [0]\n",
        "                    ], dtype=tf.float32)\n",
        "output_validation = tf.constant([\n",
        "                     [0], \n",
        "                     [n],\n",
        "                     [n],\n",
        "                     [n],\n",
        "                     [n]\n",
        "                    ], dtype=tf.float32)\n",
        "input_validation = tf.concat([feature_validation, output_validation], axis = 1)\n",
        "input_validation = input_validation[:,tf.newaxis, :]\n",
        "neigh_validation = tf.constant([\n",
        "                     [n, 1, n, n, n], \n",
        "                     [1, n, 1, n, n],\n",
        "                     [n, 1, n, 1, n],\n",
        "                     [n, n, 1, n, 1],\n",
        "                     [n, n, n, 1, n],\n",
        "                    ], dtype=tf.float32)\n",
        "\n",
        "change_model = copy_model(model, mode, input_validation)\n",
        "\n",
        "result_validation = input_validation\n",
        "model.reset_states()\n",
        "for i in range(20):\n",
        "  result_validation = forward(result_validation, neigh_validation, feature_validation, change_model, False)\n",
        "print(result_validation)"
      ],
      "execution_count": 95,
      "outputs": [
        {
          "output_type": "stream",
          "text": [
            "tf.Tensor(\n",
            "[[[1.         0.41402665]]\n",
            "\n",
            " [[0.         0.9710152 ]]\n",
            "\n",
            " [[0.         1.810851  ]]\n",
            "\n",
            " [[0.         3.077168  ]]\n",
            "\n",
            " [[0.         4.9865403 ]]], shape=(5, 1, 2), dtype=float32)\n"
          ],
          "name": "stdout"
        }
      ]
    }
  ]
}