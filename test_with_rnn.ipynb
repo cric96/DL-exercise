{
  "nbformat": 4,
  "nbformat_minor": 0,
  "metadata": {
    "colab": {
      "name": "test-with-rnn.ipynb",
      "provenance": [],
      "collapsed_sections": [],
      "authorship_tag": "ABX9TyNH3UCD6srRsuqWsS+SqghR",
      "include_colab_link": true
    },
    "kernelspec": {
      "name": "python3",
      "display_name": "Python 3"
    },
    "language_info": {
      "name": "python"
    }
  },
  "cells": [
    {
      "cell_type": "markdown",
      "metadata": {
        "id": "view-in-github",
        "colab_type": "text"
      },
      "source": [
        "<a href=\"https://colab.research.google.com/github/cric96/DL-exercise/blob/main/test_with_rnn.ipynb\" target=\"_parent\"><img src=\"https://colab.research.google.com/assets/colab-badge.svg\" alt=\"Open In Colab\"/></a>"
      ]
    },
    {
      "cell_type": "markdown",
      "metadata": {
        "id": "Ji2Yp08lPMHJ"
      },
      "source": [
        "# Recurrent Neural Network applied in Aggregate Computing\n",
        "In this notebook, I tried to apply Recurrent Neural Networks (RNN) in the context of Aggregate Computing (AC).\n",
        "\n",
        "## Model\n",
        "\n",
        "Usually, RNN are trained in indipendent sequences. In case of Aggregate Computing, the temporal sequence are correlated with each other following a neighbourhood policy. \n",
        "\n",
        "The key idea here is:\n",
        "- express the system as a graph. Offline we can imagine to access to the entire system\n",
        "- in each time step, we aggregate data from the neighbours and then we use RNN to compute the right output"
      ]
    },
    {
      "cell_type": "markdown",
      "metadata": {
        "id": "tihJbe7wP_L7"
      },
      "source": [
        "# Imports"
      ]
    },
    {
      "cell_type": "code",
      "metadata": {
        "id": "ld4IkeCHdg9f"
      },
      "source": [
        "import tensorflow as tf\n",
        "import tensorboard\n",
        "from datetime import datetime\n",
        "from numpy.random import seed\n",
        "%load_ext tensorboard"
      ],
      "execution_count": 1,
      "outputs": []
    },
    {
      "cell_type": "markdown",
      "metadata": {
        "id": "DCXGw5707Rv7"
      },
      "source": [
        "# Simple Graph\n",
        "\n",
        "In this model, I model graph as:\n",
        "$G = (N, E)$\n",
        "\n",
        "Where, $N$ contains a feature vector and an output vector.\n",
        "\n",
        "$E$ is expressed as adjacency matrix, so: $E_{i,j} = 1$ iff $i$ is neighbour of $j$.\n",
        "\n",
        "Input is a matrix contains the concatenation of feature vector and output vector, something like: $ I(n) = <f(n), o(n)>$.\n",
        "Where $<a, b, c>$ means the column-wise fector concatenation. \n",
        "For instance, giving a vector $a = [1, 2]$ and $b = [2, 3]$, $<a,b> = [1, 2, 2, 3]$.\n",
        "\n",
        "The neighbour aggregation data can be computed leveraging matrix multiplication --- so increasing traning performance.\n",
        "$$ reduction(E * F) $$\n",
        "Where F contains all node features.\n",
        "$reduction$ is a multiset function (e.g. summation, mean,...).\n",
        "\n",
        "Pay attention, this model can be easly used in a decentralized situation.\n",
        "Indeed, the data aggregation will be done without global adjency matrix but only retrieving neighbour data. The dense layer already works locally."
      ]
    },
    {
      "cell_type": "code",
      "metadata": {
        "id": "DaicADIO7U34"
      },
      "source": [
        "n = 50000\n",
        "feature = tf.constant([\n",
        "                     [1], \n",
        "                     [0],\n",
        "                     [0],\n",
        "                     [0],\n",
        "                    ], dtype=tf.float32)\n",
        "output = tf.constant([\n",
        "                     [0], \n",
        "                     [n],\n",
        "                     [n],\n",
        "                     [n],\n",
        "                    ], dtype=tf.float32)\n",
        "\n",
        "input = tf.concat([feature, output], axis = 1)\n",
        "input = input[:,tf.newaxis, :]\n",
        "\n",
        "neigh = tf.constant([\n",
        "                     [n, 1, n, n], \n",
        "                     [1, n, 1, n],\n",
        "                     [n, 1, n, 1],\n",
        "                     [n, n, 1, n],\n",
        "                    ], dtype=tf.float32)\n",
        "\n",
        "ground = tf.constant([\n",
        "                     [1, 0], \n",
        "                     [0, 1],\n",
        "                     [0, 2],\n",
        "                     [0, 3],\n",
        "                    ], dtype=tf.float32)"
      ],
      "execution_count": 29,
      "outputs": []
    },
    {
      "cell_type": "markdown",
      "metadata": {
        "id": "KRY-rUZ27Y0E"
      },
      "source": [
        "# Forward Pass\n",
        "\n",
        "Taking the output of previous step, adjecency matrix, and feature vector, this function compute the value of the next evaluation.\n",
        "So\n",
        "1. compute neighbourhood feature via aggregation\n",
        "2. concat neighbourhood feature with local feature and previous output\n",
        "3. perform a forward pass of a neural network.\n"
      ]
    },
    {
      "cell_type": "code",
      "metadata": {
        "id": "UKorlgUN7arq"
      },
      "source": [
        "def forward(result, neigh, feature, eval_logic, log_enable=False):\n",
        "  if(log_enable):\n",
        "    print(\"Input = \", result)\n",
        "  reshape = tf.reshape(result[:,:, 1], feature.shape[0])\n",
        "  neigh_evaluation = tf.reduce_min(tf.multiply(neigh, reshape), 1) ## pass reduction strategy\n",
        "  input_network = tf.concat([result[:,:, 0], neigh_evaluation[:, tf.newaxis]], 1)\n",
        "  if(log_enable):\n",
        "    print(\"Neighbour Aggregation = \", input_network[:, tf.newaxis])\n",
        "  result = eval_logic(input_network[:, tf.newaxis])\n",
        "  result = tf.concat([feature, result], axis = 1)\n",
        "  if(log_enable):\n",
        "    print(\"Output = \", result)\n",
        "  return tf.expand_dims(result, [1])"
      ],
      "execution_count": 23,
      "outputs": []
    },
    {
      "cell_type": "markdown",
      "metadata": {
        "id": "0aJqP660S5W4"
      },
      "source": [
        "# Model creation\n",
        "Create a sequential model given layers and the input shape"
      ]
    },
    {
      "cell_type": "code",
      "metadata": {
        "id": "CdXR3Tb3TV8l"
      },
      "source": [
        "def create_model(input_shape, layers):\n",
        "  input_layer = tf.keras.layers.InputLayer(input_shape=input.shape[1:], batch_size=input_shape[0])\n",
        "  layers.insert(0, input_layer)\n",
        "  return tf.keras.Sequential(layers)"
      ],
      "execution_count": 24,
      "outputs": []
    },
    {
      "cell_type": "markdown",
      "metadata": {
        "id": "ibOdTAPsnGEf"
      },
      "source": [
        ""
      ]
    },
    {
      "cell_type": "code",
      "metadata": {
        "id": "8oNvEE-Bh4B1"
      },
      "source": [
        "def instantiate_layers():\n",
        "  return [\n",
        "      tf.keras.layers.LSTM(units = 4, activation='relu', return_sequences=True, stateful=True),\n",
        "      tf.keras.layers.LSTM(units = 1, activation='relu', return_sequences=False, stateful=True, bias_initializer='ones'),\n",
        "  ]\n",
        "model = create_model(input.shape, instantiate_layers())"
      ],
      "execution_count": 25,
      "outputs": []
    },
    {
      "cell_type": "markdown",
      "metadata": {
        "id": "kZquNuutUD-n"
      },
      "source": [
        "# Train function"
      ]
    },
    {
      "cell_type": "code",
      "metadata": {
        "id": "xvzeO1W3UGi4"
      },
      "source": [
        "## TODO pass input and network\n",
        "def train(model, data, iteration, stabilise_in, stabilisation_check, loss, optimizer, each=100):\n",
        "  input, neigh, feature, ground = data\n",
        "  for j in range(iteration):\n",
        "    with tf.GradientTape() as tape:\n",
        "      result = input\n",
        "      to_backprop = 0\n",
        "      for i in range(stabilise_in):\n",
        "        result = forward(result, neigh, feature, model)\n",
        "      for i in range(stabilisation_check):\n",
        "        result = forward(result, neigh, feature, model)\n",
        "        to_backprop += 1 / stabilisation_check * loss(ground, result[:, 0, :])\n",
        "      model.reset_states()\n",
        "      gradient = tape.gradient(to_backprop, model.weights)\n",
        "      optimizer.apply_gradients(zip(gradient, model.weights))\n",
        "    if(j % each == 0):\n",
        "      print(\"Epoch \", j ,\"Loss = \", tf.reduce_sum(to_backprop))  "
      ],
      "execution_count": 30,
      "outputs": []
    },
    {
      "cell_type": "markdown",
      "metadata": {
        "id": "WFGPPgD_hdHi"
      },
      "source": [
        "\n",
        "## Train loop\n",
        "Here I want only to find a function that overfits, so it solve this specific problem.\n"
      ]
    },
    {
      "cell_type": "code",
      "metadata": {
        "colab": {
          "base_uri": "https://localhost:8080/"
        },
        "id": "56wyzp3MdzYy",
        "outputId": "0cb36a2d-3cc6-43a7-fb6a-09d23e13a3ad"
      },
      "source": [
        "#seed(42)\n",
        "#tf.random.set_seed(42)\n",
        "model = create_model(input.shape, instantiate_layers()) ## comment to avoid the recomputation of weights\n",
        "iteration = 10000\n",
        "stabilise_in = 4\n",
        "stabilisation_check = 5\n",
        "\n",
        "loss = tf.losses.mse\n",
        "optimizer = tf.optimizers.Adam()\n",
        "data = (input, neigh, feature, ground)\n",
        "train(model, data, iteration, stabilise_in, stabilisation_check, loss, optimizer, 50)\n",
        "\n",
        "result = input\n",
        "for i in range(20):\n",
        "  result = forward(result, neigh, feature, model)\n",
        "print(result)\n",
        "model.reset_states()"
      ],
      "execution_count": 31,
      "outputs": [
        {
          "output_type": "stream",
          "text": [
            "Epoch  0 Loss =  tf.Tensor(1.9381208, shape=(), dtype=float32)\n",
            "Epoch  50 Loss =  tf.Tensor(1.537977, shape=(), dtype=float32)\n",
            "Epoch  100 Loss =  tf.Tensor(1.238846, shape=(), dtype=float32)\n",
            "Epoch  150 Loss =  tf.Tensor(1.0955749, shape=(), dtype=float32)\n",
            "Epoch  200 Loss =  tf.Tensor(0.9917271, shape=(), dtype=float32)\n",
            "Epoch  250 Loss =  tf.Tensor(0.88246083, shape=(), dtype=float32)\n",
            "Epoch  300 Loss =  tf.Tensor(0.7667408, shape=(), dtype=float32)\n",
            "Epoch  350 Loss =  tf.Tensor(0.6098951, shape=(), dtype=float32)\n",
            "Epoch  400 Loss =  tf.Tensor(0.39013606, shape=(), dtype=float32)\n",
            "Epoch  450 Loss =  tf.Tensor(0.32458013, shape=(), dtype=float32)\n",
            "Epoch  500 Loss =  tf.Tensor(0.28001893, shape=(), dtype=float32)\n",
            "Epoch  550 Loss =  tf.Tensor(0.21376579, shape=(), dtype=float32)\n",
            "Epoch  600 Loss =  tf.Tensor(0.13925338, shape=(), dtype=float32)\n",
            "Epoch  650 Loss =  tf.Tensor(0.1010254, shape=(), dtype=float32)\n",
            "Epoch  700 Loss =  tf.Tensor(0.055804543, shape=(), dtype=float32)\n",
            "Epoch  750 Loss =  tf.Tensor(0.02973926, shape=(), dtype=float32)\n",
            "Epoch  800 Loss =  tf.Tensor(0.021723457, shape=(), dtype=float32)\n",
            "Epoch  850 Loss =  tf.Tensor(0.0025552073, shape=(), dtype=float32)\n",
            "Epoch  900 Loss =  tf.Tensor(0.0026620077, shape=(), dtype=float32)\n",
            "Epoch  950 Loss =  tf.Tensor(0.0018818218, shape=(), dtype=float32)\n",
            "Epoch  1000 Loss =  tf.Tensor(0.0012991847, shape=(), dtype=float32)\n",
            "Epoch  1050 Loss =  tf.Tensor(0.0011126018, shape=(), dtype=float32)\n",
            "Epoch  1100 Loss =  tf.Tensor(0.0010197673, shape=(), dtype=float32)\n",
            "Epoch  1150 Loss =  tf.Tensor(0.00094571686, shape=(), dtype=float32)\n",
            "Epoch  1200 Loss =  tf.Tensor(0.00090350944, shape=(), dtype=float32)\n",
            "Epoch  1250 Loss =  tf.Tensor(0.0008938111, shape=(), dtype=float32)\n",
            "Epoch  1300 Loss =  tf.Tensor(0.00090588816, shape=(), dtype=float32)\n",
            "Epoch  1350 Loss =  tf.Tensor(0.0008779521, shape=(), dtype=float32)\n",
            "Epoch  1400 Loss =  tf.Tensor(0.00087247376, shape=(), dtype=float32)\n",
            "Epoch  1450 Loss =  tf.Tensor(0.000784874, shape=(), dtype=float32)\n",
            "Epoch  1500 Loss =  tf.Tensor(0.00069134345, shape=(), dtype=float32)\n",
            "Epoch  1550 Loss =  tf.Tensor(0.0007108643, shape=(), dtype=float32)\n",
            "Epoch  1600 Loss =  tf.Tensor(0.0006246413, shape=(), dtype=float32)\n",
            "Epoch  1650 Loss =  tf.Tensor(0.00074553245, shape=(), dtype=float32)\n",
            "Epoch  1700 Loss =  tf.Tensor(0.00074043253, shape=(), dtype=float32)\n",
            "Epoch  1750 Loss =  tf.Tensor(0.0006435174, shape=(), dtype=float32)\n",
            "Epoch  1800 Loss =  tf.Tensor(0.00070598396, shape=(), dtype=float32)\n",
            "Epoch  1850 Loss =  tf.Tensor(0.00068127736, shape=(), dtype=float32)\n",
            "Epoch  1900 Loss =  tf.Tensor(0.00057276525, shape=(), dtype=float32)\n",
            "Epoch  1950 Loss =  tf.Tensor(0.00069421495, shape=(), dtype=float32)\n",
            "Epoch  2000 Loss =  tf.Tensor(0.00043141126, shape=(), dtype=float32)\n",
            "Epoch  2050 Loss =  tf.Tensor(0.000549573, shape=(), dtype=float32)\n",
            "Epoch  2100 Loss =  tf.Tensor(0.00059014285, shape=(), dtype=float32)\n",
            "Epoch  2150 Loss =  tf.Tensor(0.0005669672, shape=(), dtype=float32)\n",
            "Epoch  2200 Loss =  tf.Tensor(0.00053471216, shape=(), dtype=float32)\n",
            "Epoch  2250 Loss =  tf.Tensor(0.00049563154, shape=(), dtype=float32)\n",
            "Epoch  2300 Loss =  tf.Tensor(0.00041012096, shape=(), dtype=float32)\n",
            "Epoch  2350 Loss =  tf.Tensor(0.00040501278, shape=(), dtype=float32)\n",
            "Epoch  2400 Loss =  tf.Tensor(0.00043505462, shape=(), dtype=float32)\n",
            "Epoch  2450 Loss =  tf.Tensor(0.0004890662, shape=(), dtype=float32)\n",
            "Epoch  2500 Loss =  tf.Tensor(0.0005325215, shape=(), dtype=float32)\n",
            "Epoch  2550 Loss =  tf.Tensor(0.0006131607, shape=(), dtype=float32)\n",
            "Epoch  2600 Loss =  tf.Tensor(0.00088850333, shape=(), dtype=float32)\n",
            "Epoch  2650 Loss =  tf.Tensor(0.0023073577, shape=(), dtype=float32)\n",
            "Epoch  2700 Loss =  tf.Tensor(0.006611462, shape=(), dtype=float32)\n",
            "Epoch  2750 Loss =  tf.Tensor(0.0035184512, shape=(), dtype=float32)\n",
            "Epoch  2800 Loss =  tf.Tensor(0.001961534, shape=(), dtype=float32)\n",
            "Epoch  2850 Loss =  tf.Tensor(0.0012898536, shape=(), dtype=float32)\n",
            "Epoch  2900 Loss =  tf.Tensor(0.00090599654, shape=(), dtype=float32)\n",
            "Epoch  2950 Loss =  tf.Tensor(0.0006850298, shape=(), dtype=float32)\n",
            "Epoch  3000 Loss =  tf.Tensor(0.00055471505, shape=(), dtype=float32)\n",
            "Epoch  3050 Loss =  tf.Tensor(0.0004685134, shape=(), dtype=float32)\n",
            "Epoch  3100 Loss =  tf.Tensor(0.00040847732, shape=(), dtype=float32)\n",
            "Epoch  3150 Loss =  tf.Tensor(0.0003621621, shape=(), dtype=float32)\n",
            "Epoch  3200 Loss =  tf.Tensor(0.00032390346, shape=(), dtype=float32)\n",
            "Epoch  3250 Loss =  tf.Tensor(0.00028502083, shape=(), dtype=float32)\n",
            "Epoch  3300 Loss =  tf.Tensor(0.00033563533, shape=(), dtype=float32)\n",
            "Epoch  3350 Loss =  tf.Tensor(0.00035998505, shape=(), dtype=float32)\n",
            "Epoch  3400 Loss =  tf.Tensor(0.00032108912, shape=(), dtype=float32)\n",
            "Epoch  3450 Loss =  tf.Tensor(0.00026491692, shape=(), dtype=float32)\n",
            "Epoch  3500 Loss =  tf.Tensor(0.00014557134, shape=(), dtype=float32)\n",
            "Epoch  3550 Loss =  tf.Tensor(0.00018272243, shape=(), dtype=float32)\n",
            "Epoch  3600 Loss =  tf.Tensor(0.00022190575, shape=(), dtype=float32)\n",
            "Epoch  3650 Loss =  tf.Tensor(0.00011672037, shape=(), dtype=float32)\n",
            "Epoch  3700 Loss =  tf.Tensor(8.834207e-05, shape=(), dtype=float32)\n",
            "Epoch  3750 Loss =  tf.Tensor(7.670687e-05, shape=(), dtype=float32)\n",
            "Epoch  3800 Loss =  tf.Tensor(6.726977e-05, shape=(), dtype=float32)\n",
            "Epoch  3850 Loss =  tf.Tensor(6.062274e-05, shape=(), dtype=float32)\n",
            "Epoch  3900 Loss =  tf.Tensor(5.5408866e-05, shape=(), dtype=float32)\n",
            "Epoch  3950 Loss =  tf.Tensor(5.20331e-05, shape=(), dtype=float32)\n",
            "Epoch  4000 Loss =  tf.Tensor(5.0419694e-05, shape=(), dtype=float32)\n",
            "Epoch  4050 Loss =  tf.Tensor(4.9434868e-05, shape=(), dtype=float32)\n",
            "Epoch  4100 Loss =  tf.Tensor(4.891849e-05, shape=(), dtype=float32)\n",
            "Epoch  4150 Loss =  tf.Tensor(4.8855152e-05, shape=(), dtype=float32)\n",
            "Epoch  4200 Loss =  tf.Tensor(4.9033228e-05, shape=(), dtype=float32)\n",
            "Epoch  4250 Loss =  tf.Tensor(4.9412803e-05, shape=(), dtype=float32)\n",
            "Epoch  4300 Loss =  tf.Tensor(4.9847295e-05, shape=(), dtype=float32)\n",
            "Epoch  4350 Loss =  tf.Tensor(5.038995e-05, shape=(), dtype=float32)\n",
            "Epoch  4400 Loss =  tf.Tensor(5.092663e-05, shape=(), dtype=float32)\n",
            "Epoch  4450 Loss =  tf.Tensor(5.1447558e-05, shape=(), dtype=float32)\n",
            "Epoch  4500 Loss =  tf.Tensor(5.1940908e-05, shape=(), dtype=float32)\n",
            "Epoch  4550 Loss =  tf.Tensor(5.2397256e-05, shape=(), dtype=float32)\n",
            "Epoch  4600 Loss =  tf.Tensor(5.2760734e-05, shape=(), dtype=float32)\n",
            "Epoch  4650 Loss =  tf.Tensor(5.31277e-05, shape=(), dtype=float32)\n",
            "Epoch  4700 Loss =  tf.Tensor(5.3418822e-05, shape=(), dtype=float32)\n",
            "Epoch  4750 Loss =  tf.Tensor(5.342728e-05, shape=(), dtype=float32)\n",
            "Epoch  4800 Loss =  tf.Tensor(5.3677428e-05, shape=(), dtype=float32)\n",
            "Epoch  4850 Loss =  tf.Tensor(5.3772284e-05, shape=(), dtype=float32)\n",
            "Epoch  4900 Loss =  tf.Tensor(5.3816275e-05, shape=(), dtype=float32)\n",
            "Epoch  4950 Loss =  tf.Tensor(5.3835523e-05, shape=(), dtype=float32)\n",
            "Epoch  5000 Loss =  tf.Tensor(5.3603366e-05, shape=(), dtype=float32)\n",
            "Epoch  5050 Loss =  tf.Tensor(5.3640193e-05, shape=(), dtype=float32)\n",
            "Epoch  5100 Loss =  tf.Tensor(5.343309e-05, shape=(), dtype=float32)\n",
            "Epoch  5150 Loss =  tf.Tensor(5.299834e-05, shape=(), dtype=float32)\n",
            "Epoch  5200 Loss =  tf.Tensor(5.2967393e-05, shape=(), dtype=float32)\n",
            "Epoch  5250 Loss =  tf.Tensor(5.2655017e-05, shape=(), dtype=float32)\n",
            "Epoch  5300 Loss =  tf.Tensor(5.2230487e-05, shape=(), dtype=float32)\n",
            "Epoch  5350 Loss =  tf.Tensor(5.187599e-05, shape=(), dtype=float32)\n",
            "Epoch  5400 Loss =  tf.Tensor(5.1531577e-05, shape=(), dtype=float32)\n",
            "Epoch  5450 Loss =  tf.Tensor(5.1139064e-05, shape=(), dtype=float32)\n",
            "Epoch  5500 Loss =  tf.Tensor(5.043237e-05, shape=(), dtype=float32)\n",
            "Epoch  5550 Loss =  tf.Tensor(4.994737e-05, shape=(), dtype=float32)\n",
            "Epoch  5600 Loss =  tf.Tensor(4.9402388e-05, shape=(), dtype=float32)\n",
            "Epoch  5650 Loss =  tf.Tensor(4.8909635e-05, shape=(), dtype=float32)\n",
            "Epoch  5700 Loss =  tf.Tensor(4.8392918e-05, shape=(), dtype=float32)\n",
            "Epoch  5750 Loss =  tf.Tensor(4.773214e-05, shape=(), dtype=float32)\n",
            "Epoch  5800 Loss =  tf.Tensor(4.724185e-05, shape=(), dtype=float32)\n",
            "Epoch  5850 Loss =  tf.Tensor(4.6494e-05, shape=(), dtype=float32)\n",
            "Epoch  5900 Loss =  tf.Tensor(4.6007703e-05, shape=(), dtype=float32)\n",
            "Epoch  5950 Loss =  tf.Tensor(4.5382538e-05, shape=(), dtype=float32)\n",
            "Epoch  6000 Loss =  tf.Tensor(4.4679608e-05, shape=(), dtype=float32)\n",
            "Epoch  6050 Loss =  tf.Tensor(4.4083194e-05, shape=(), dtype=float32)\n",
            "Epoch  6100 Loss =  tf.Tensor(4.3369215e-05, shape=(), dtype=float32)\n",
            "Epoch  6150 Loss =  tf.Tensor(4.258891e-05, shape=(), dtype=float32)\n",
            "Epoch  6200 Loss =  tf.Tensor(4.194648e-05, shape=(), dtype=float32)\n",
            "Epoch  6250 Loss =  tf.Tensor(4.1217732e-05, shape=(), dtype=float32)\n",
            "Epoch  6300 Loss =  tf.Tensor(4.0610186e-05, shape=(), dtype=float32)\n",
            "Epoch  6350 Loss =  tf.Tensor(3.9927116e-05, shape=(), dtype=float32)\n",
            "Epoch  6400 Loss =  tf.Tensor(3.9273484e-05, shape=(), dtype=float32)\n",
            "Epoch  6450 Loss =  tf.Tensor(3.8533668e-05, shape=(), dtype=float32)\n",
            "Epoch  6500 Loss =  tf.Tensor(3.7867383e-05, shape=(), dtype=float32)\n",
            "Epoch  6550 Loss =  tf.Tensor(3.7480608e-05, shape=(), dtype=float32)\n",
            "Epoch  6600 Loss =  tf.Tensor(3.6674828e-05, shape=(), dtype=float32)\n",
            "Epoch  6650 Loss =  tf.Tensor(4.5824556e-05, shape=(), dtype=float32)\n",
            "Epoch  6700 Loss =  tf.Tensor(3.6926693e-05, shape=(), dtype=float32)\n",
            "Epoch  6750 Loss =  tf.Tensor(3.5342287e-05, shape=(), dtype=float32)\n",
            "Epoch  6800 Loss =  tf.Tensor(7.0585345e-05, shape=(), dtype=float32)\n",
            "Epoch  6850 Loss =  tf.Tensor(0.00025637526, shape=(), dtype=float32)\n",
            "Epoch  6900 Loss =  tf.Tensor(0.000104541235, shape=(), dtype=float32)\n",
            "Epoch  6950 Loss =  tf.Tensor(6.482179e-05, shape=(), dtype=float32)\n",
            "Epoch  7000 Loss =  tf.Tensor(9.3408686e-05, shape=(), dtype=float32)\n",
            "Epoch  7050 Loss =  tf.Tensor(5.689931e-05, shape=(), dtype=float32)\n",
            "Epoch  7100 Loss =  tf.Tensor(9.572765e-05, shape=(), dtype=float32)\n",
            "Epoch  7150 Loss =  tf.Tensor(7.061234e-05, shape=(), dtype=float32)\n",
            "Epoch  7200 Loss =  tf.Tensor(6.194431e-05, shape=(), dtype=float32)\n",
            "Epoch  7250 Loss =  tf.Tensor(7.563875e-05, shape=(), dtype=float32)\n",
            "Epoch  7300 Loss =  tf.Tensor(6.773441e-05, shape=(), dtype=float32)\n",
            "Epoch  7350 Loss =  tf.Tensor(4.6921217e-05, shape=(), dtype=float32)\n",
            "Epoch  7400 Loss =  tf.Tensor(4.2149128e-05, shape=(), dtype=float32)\n",
            "Epoch  7450 Loss =  tf.Tensor(4.222958e-05, shape=(), dtype=float32)\n",
            "Epoch  7500 Loss =  tf.Tensor(4.0961e-05, shape=(), dtype=float32)\n",
            "Epoch  7550 Loss =  tf.Tensor(3.849624e-05, shape=(), dtype=float32)\n",
            "Epoch  7600 Loss =  tf.Tensor(3.6667665e-05, shape=(), dtype=float32)\n",
            "Epoch  7650 Loss =  tf.Tensor(3.8606457e-05, shape=(), dtype=float32)\n",
            "Epoch  7700 Loss =  tf.Tensor(4.2828728e-05, shape=(), dtype=float32)\n",
            "Epoch  7750 Loss =  tf.Tensor(4.1920932e-05, shape=(), dtype=float32)\n",
            "Epoch  7800 Loss =  tf.Tensor(5.55999e-05, shape=(), dtype=float32)\n",
            "Epoch  7850 Loss =  tf.Tensor(3.532848e-05, shape=(), dtype=float32)\n",
            "Epoch  7900 Loss =  tf.Tensor(3.8587983e-05, shape=(), dtype=float32)\n",
            "Epoch  7950 Loss =  tf.Tensor(3.1229392e-05, shape=(), dtype=float32)\n",
            "Epoch  8000 Loss =  tf.Tensor(4.212511e-05, shape=(), dtype=float32)\n",
            "Epoch  8050 Loss =  tf.Tensor(2.985665e-05, shape=(), dtype=float32)\n",
            "Epoch  8100 Loss =  tf.Tensor(3.3566354e-05, shape=(), dtype=float32)\n",
            "Epoch  8150 Loss =  tf.Tensor(2.9272793e-05, shape=(), dtype=float32)\n",
            "Epoch  8200 Loss =  tf.Tensor(3.394003e-05, shape=(), dtype=float32)\n",
            "Epoch  8250 Loss =  tf.Tensor(3.124778e-05, shape=(), dtype=float32)\n",
            "Epoch  8300 Loss =  tf.Tensor(3.0859614e-05, shape=(), dtype=float32)\n",
            "Epoch  8350 Loss =  tf.Tensor(5.281913e-05, shape=(), dtype=float32)\n",
            "Epoch  8400 Loss =  tf.Tensor(2.7922404e-05, shape=(), dtype=float32)\n",
            "Epoch  8450 Loss =  tf.Tensor(3.4333672e-05, shape=(), dtype=float32)\n",
            "Epoch  8500 Loss =  tf.Tensor(4.357043e-05, shape=(), dtype=float32)\n",
            "Epoch  8550 Loss =  tf.Tensor(2.6807791e-05, shape=(), dtype=float32)\n",
            "Epoch  8600 Loss =  tf.Tensor(2.4807103e-05, shape=(), dtype=float32)\n",
            "Epoch  8650 Loss =  tf.Tensor(3.5766097e-05, shape=(), dtype=float32)\n",
            "Epoch  8700 Loss =  tf.Tensor(3.65878e-05, shape=(), dtype=float32)\n",
            "Epoch  8750 Loss =  tf.Tensor(2.4890334e-05, shape=(), dtype=float32)\n",
            "Epoch  8800 Loss =  tf.Tensor(3.0378313e-05, shape=(), dtype=float32)\n",
            "Epoch  8850 Loss =  tf.Tensor(4.0612165e-05, shape=(), dtype=float32)\n",
            "Epoch  8900 Loss =  tf.Tensor(3.093856e-05, shape=(), dtype=float32)\n",
            "Epoch  8950 Loss =  tf.Tensor(2.8677003e-05, shape=(), dtype=float32)\n",
            "Epoch  9000 Loss =  tf.Tensor(2.5836835e-05, shape=(), dtype=float32)\n",
            "Epoch  9050 Loss =  tf.Tensor(4.1996027e-05, shape=(), dtype=float32)\n",
            "Epoch  9100 Loss =  tf.Tensor(3.841832e-05, shape=(), dtype=float32)\n",
            "Epoch  9150 Loss =  tf.Tensor(2.6943764e-05, shape=(), dtype=float32)\n",
            "Epoch  9200 Loss =  tf.Tensor(2.1927652e-05, shape=(), dtype=float32)\n",
            "Epoch  9250 Loss =  tf.Tensor(3.3913835e-05, shape=(), dtype=float32)\n",
            "Epoch  9300 Loss =  tf.Tensor(2.3869681e-05, shape=(), dtype=float32)\n",
            "Epoch  9350 Loss =  tf.Tensor(2.130777e-05, shape=(), dtype=float32)\n",
            "Epoch  9400 Loss =  tf.Tensor(2.1053724e-05, shape=(), dtype=float32)\n",
            "Epoch  9450 Loss =  tf.Tensor(2.0025029e-05, shape=(), dtype=float32)\n",
            "Epoch  9500 Loss =  tf.Tensor(0.0005218459, shape=(), dtype=float32)\n",
            "Epoch  9550 Loss =  tf.Tensor(0.0002819191, shape=(), dtype=float32)\n",
            "Epoch  9600 Loss =  tf.Tensor(8.986372e-05, shape=(), dtype=float32)\n",
            "Epoch  9650 Loss =  tf.Tensor(7.5295946e-05, shape=(), dtype=float32)\n",
            "Epoch  9700 Loss =  tf.Tensor(6.792124e-05, shape=(), dtype=float32)\n",
            "Epoch  9750 Loss =  tf.Tensor(6.31129e-05, shape=(), dtype=float32)\n",
            "Epoch  9800 Loss =  tf.Tensor(5.9415437e-05, shape=(), dtype=float32)\n",
            "Epoch  9850 Loss =  tf.Tensor(5.607577e-05, shape=(), dtype=float32)\n",
            "Epoch  9900 Loss =  tf.Tensor(5.2862677e-05, shape=(), dtype=float32)\n",
            "Epoch  9950 Loss =  tf.Tensor(4.974755e-05, shape=(), dtype=float32)\n",
            "tf.Tensor(\n",
            "[[[1.0000000e+00 6.9517837e-06]]\n",
            "\n",
            " [[0.0000000e+00 1.1065174e+00]]\n",
            "\n",
            " [[0.0000000e+00 1.9320350e+00]]\n",
            "\n",
            " [[0.0000000e+00 2.9360633e+00]]], shape=(4, 1, 2), dtype=float32)\n"
          ],
          "name": "stdout"
        }
      ]
    },
    {
      "cell_type": "markdown",
      "metadata": {
        "id": "RqbsEJEnWOc7"
      },
      "source": [
        "# Check result, generalisation\n",
        "In this part, I try to use the same network in another graph, to see if it can be used in different graphs."
      ]
    },
    {
      "cell_type": "code",
      "metadata": {
        "colab": {
          "base_uri": "https://localhost:8080/"
        },
        "id": "1LDTXF5knmGv",
        "outputId": "dce11d28-24ab-4b1f-de63-6fd53a9ddc21"
      },
      "source": [
        "n = 50000\n",
        "feature_validation = tf.constant([\n",
        "                     [0], \n",
        "                     [0],\n",
        "                     [0],\n",
        "                     [0],\n",
        "                     [0]\n",
        "                    ], dtype=tf.float32)\n",
        "output_validation = tf.constant([\n",
        "                     [0], \n",
        "                     [n],\n",
        "                     [n],\n",
        "                     [n],\n",
        "                     [n]\n",
        "                    ], dtype=tf.float32)\n",
        "input_validation = tf.concat([feature_validation, output_validation], axis = 1)\n",
        "input_validation = input_validation[:,tf.newaxis, :]\n",
        "neigh_validation = tf.constant([\n",
        "                     [n, 1, n, n, n], \n",
        "                     [1, n, 1, n, n],\n",
        "                     [n, 1, n, 1, n],\n",
        "                     [n, n, 1, n, 1],\n",
        "                     [n, n, n, 1, n],\n",
        "                    ], dtype=tf.float32)\n",
        "\n",
        "change_model = create_model(input_validation.shape, instantiate_layers())\n",
        "change_model.set_weights(model.get_weights())\n",
        "\n",
        "result_validation = input_validation\n",
        "model.reset_states()\n",
        "for i in range(20):\n",
        "  result_validation = forward(result_validation, neigh_validation, feature_validation, change_model, False)\n",
        "print(result_validation)"
      ],
      "execution_count": 36,
      "outputs": [
        {
          "output_type": "stream",
          "text": [
            "tf.Tensor(\n",
            "[[[0.0000000e+00 1.2036740e+00]]\n",
            "\n",
            " [[0.0000000e+00 1.2035980e+00]]\n",
            "\n",
            " [[1.0000000e+00 1.1088027e-27]]\n",
            "\n",
            " [[0.0000000e+00 1.2035980e+00]]\n",
            "\n",
            " [[0.0000000e+00 1.2036740e+00]]], shape=(5, 1, 2), dtype=float32)\n"
          ],
          "name": "stdout"
        }
      ]
    }
  ]
}