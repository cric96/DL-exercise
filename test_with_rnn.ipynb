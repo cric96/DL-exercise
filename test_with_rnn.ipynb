{
 "cells": [
  {
   "cell_type": "markdown",
   "metadata": {
    "colab_type": "text",
    "id": "view-in-github"
   },
   "source": [
    "<a href=\"https://colab.research.google.com/github/cric96/DL-exercise/blob/main/test_with_rnn.ipynb\" target=\"_parent\"><img src=\"https://colab.research.google.com/assets/colab-badge.svg\" alt=\"Open In Colab\"/></a>"
   ]
  },
  {
   "cell_type": "markdown",
   "metadata": {
    "id": "Ji2Yp08lPMHJ"
   },
   "source": [
    "# Recurrent Neural Network applied in Aggregate Computing\n",
    "In this notebook, I tried to apply Recurrent Neural Networks (RNN) in the context of Aggregate Computing (AC).\n",
    "\n",
    "## Model\n",
    "\n",
    "Usually, RNN are trained in indipendent sequences. In case of Aggregate Computing, the temporal sequence are correlated with each other following a neighbourhood policy. \n",
    "\n",
    "The key idea here is:\n",
    "- express the system as a graph. Offline we can imagine to access to the entire system\n",
    "- in each time step, we aggregate data from the neighbours and then we use RNN to compute the right output"
   ]
  },
  {
   "cell_type": "markdown",
   "metadata": {
    "id": "tihJbe7wP_L7"
   },
   "source": [
    "# Imports"
   ]
  },
  {
   "cell_type": "code",
   "execution_count": 1,
   "metadata": {
    "id": "ld4IkeCHdg9f"
   },
   "outputs": [],
   "source": [
    "import tensorflow as tf\n",
    "import tensorboard\n",
    "from datetime import datetime\n",
    "from numpy.random import seed\n",
    "%load_ext tensorboard"
   ]
  },
  {
   "cell_type": "markdown",
   "metadata": {
    "id": "DCXGw5707Rv7"
   },
   "source": [
    "# Simple Graph\n",
    "\n",
    "In this model, I model graph as:\n",
    "$G = (N, E)$\n",
    "\n",
    "Where, $N$ contains a feature vector and an output vector.\n",
    "\n",
    "$E$ is expressed as adjacency matrix, so: $E_{i,j} = 1$ iff $i$ is neighbour of $j$.\n",
    "\n",
    "Input is a matrix contains the concatenation of feature vector and output vector, something like: $ I(n) = <f(n), o(n)>$.\n",
    "Where $<a, b, c>$ means the column-wise fector concatenation. \n",
    "For instance, giving a vector $a = [1, 2]$ and $b = [2, 3]$, $<a,b> = [1, 2, 2, 3]$.\n",
    "\n",
    "The neighbour aggregation data can be computed leveraging matrix multiplication --- so increasing traning performance.\n",
    "$$ reduction(E * F) $$\n",
    "Where F contains all node features.\n",
    "$reduction$ is a multiset function (e.g. summation, mean,...).\n",
    "\n",
    "Pay attention, this model can be easly used in a decentralized situation.\n",
    "Indeed, the data aggregation will be done without global adjency matrix but only retrieving neighbour data. The dense layer already works locally."
   ]
  },
  {
   "cell_type": "code",
   "execution_count": 2,
   "metadata": {
    "id": "DaicADIO7U34"
   },
   "outputs": [],
   "source": [
    "n = 50000\n",
    "feature = tf.constant([\n",
    "                     [1], \n",
    "                     [0],\n",
    "                     [0],\n",
    "                     [0],\n",
    "                    ], dtype=tf.float32)\n",
    "output = tf.constant([\n",
    "                     [0], \n",
    "                     [n],\n",
    "                     [n],\n",
    "                     [n],\n",
    "                    ], dtype=tf.float32)\n",
    "\n",
    "input = tf.concat([feature, output], axis = 1)\n",
    "input = input[:,tf.newaxis, :]\n",
    "\n",
    "neigh = tf.constant([\n",
    "                     [n, 1, n, n], \n",
    "                     [1, n, 1, n],\n",
    "                     [n, 1, n, 1],\n",
    "                     [n, n, 1, n],\n",
    "                    ], dtype=tf.float32)\n",
    "\n",
    "ground = tf.constant([\n",
    "                     [1, 0], \n",
    "                     [0, 1],\n",
    "                     [0, 2],\n",
    "                     [0, 3],\n",
    "                    ], dtype=tf.float32)"
   ]
  },
  {
   "cell_type": "markdown",
   "metadata": {
    "id": "KRY-rUZ27Y0E"
   },
   "source": [
    "# Forward Pass\n",
    "\n",
    "Taking the output of previous step, adjecency matrix, and feature vector, this function compute the value of the next evaluation.\n",
    "So\n",
    "1. compute neighbourhood feature via aggregation\n",
    "2. concat neighbourhood feature with local feature and previous output\n",
    "3. perform a forward pass of a neural network.\n"
   ]
  },
  {
   "cell_type": "code",
   "execution_count": 3,
   "metadata": {
    "id": "UKorlgUN7arq"
   },
   "outputs": [],
   "source": [
    "def forward(result, neigh, feature, eval_logic, log_enable=False):\n",
    "  if(log_enable):\n",
    "    print(\"Input = \", result)\n",
    "  reshape = tf.reshape(result[:,:, 1], feature.shape[0])\n",
    "  neigh_evaluation = tf.reduce_min(tf.multiply(neigh, reshape), 1) ## pass reduction strategy\n",
    "  input_network = tf.concat([result[:,:, 0], neigh_evaluation[:, tf.newaxis]], 1)\n",
    "  if(log_enable):\n",
    "    print(\"Neighbour Aggregation = \", input_network[:, tf.newaxis])\n",
    "  result = eval_logic(input_network[:, tf.newaxis])\n",
    "  result = tf.reshape(result, feature.shape[:2]) ## adapt the shape in order to work both in linear model and in the recurrent model.\n",
    "  result = tf.concat([feature, result], axis = 1)\n",
    "  if(log_enable):\n",
    "    print(\"Output = \", result)\n",
    "  return tf.expand_dims(result, [1])"
   ]
  },
  {
   "cell_type": "markdown",
   "metadata": {
    "id": "0aJqP660S5W4"
   },
   "source": [
    "# Model creation\n",
    "Create a sequential model given layers and the input shape"
   ]
  },
  {
   "cell_type": "code",
   "execution_count": 4,
   "metadata": {
    "id": "CdXR3Tb3TV8l"
   },
   "outputs": [],
   "source": [
    "def create_model(input_shape, layers):\n",
    "  input_layer = tf.keras.layers.InputLayer(input_shape=input.shape[1:], batch_size=input_shape[0])\n",
    "  layers.insert(0, input_layer)\n",
    "  return tf.keras.Sequential(layers)"
   ]
  },
  {
   "cell_type": "markdown",
   "metadata": {
    "id": "ibOdTAPsnGEf"
   },
   "source": [
    "## Recurrent model\n",
    "Simple network creation with multiple recurrent layer \n"
   ]
  },
  {
   "cell_type": "code",
   "execution_count": 5,
   "metadata": {
    "id": "8oNvEE-Bh4B1"
   },
   "outputs": [],
   "source": [
    "def instantiate_layers():\n",
    "  return [\n",
    "      tf.keras.layers.GRU(units = 4, activation='relu', return_sequences=True, stateful=True),\n",
    "      tf.keras.layers.GRU(units = 1, activation='relu', return_sequences=False, stateful=True, bias_initializer='ones'),\n",
    "  ]"
   ]
  },
  {
   "cell_type": "markdown",
   "metadata": {
    "id": "eLAigDrToouO"
   },
   "source": [
    "## Linear Model\n",
    "Simple network with multiple linear layer"
   ]
  },
  {
   "cell_type": "code",
   "execution_count": 8,
   "metadata": {
    "id": "9DneyuoJoltR"
   },
   "outputs": [],
   "source": [
    "def instantiate_linear_layers():\n",
    "  return [\n",
    "          tf.keras.layers.Dense(units = 4, activation='relu'),\n",
    "          tf.keras.layers.Dense(units = 2, activation='relu'),\n",
    "          tf.keras.layers.Dense(units = 1, activation='relu', bias_initializer='ones')\n",
    "  ]"
   ]
  },
  {
   "cell_type": "markdown",
   "metadata": {
    "id": "I2iXarjQrq10"
   },
   "source": [
    "## Model instatiation\n"
   ]
  },
  {
   "cell_type": "code",
   "execution_count": 9,
   "metadata": {
    "id": "JFidlC53rvyL"
   },
   "outputs": [],
   "source": [
    "linear = \"linear\"\n",
    "recurrent = \"recurrent\"\n",
    "same = \"same\"\n",
    "\n",
    "def instatiate(input, mode = \"same\"):\n",
    "  if mode == linear:\n",
    "    return create_model(input.shape, instantiate_linear_layers())\n",
    "  elif mode == recurrent:\n",
    "    return create_model(input.shape, instantiate_layers())\n",
    "\n",
    "def copy_model(model, mode = \"same\", input = \"\"):\n",
    "  if mode == linear:\n",
    "    return model\n",
    "  elif mode == recurrent:\n",
    "    change_model = instatiate(input, recurrent)\n",
    "    change_model.set_weights(model.get_weights())\n",
    "    return change_model\n",
    "mode = linear\n",
    "model = instatiate(input, linear)"
   ]
  },
  {
   "cell_type": "markdown",
   "metadata": {
    "id": "kZquNuutUD-n"
   },
   "source": [
    "# Train function"
   ]
  },
  {
   "cell_type": "code",
   "execution_count": 10,
   "metadata": {
    "id": "xvzeO1W3UGi4"
   },
   "outputs": [],
   "source": [
    "## TODO pass input and network\n",
    "def train(model, data, iteration, stabilise_in, stabilisation_check, loss, optimizer, each=100):\n",
    "  input, neigh, feature, ground = data\n",
    "  for j in range(iteration):\n",
    "    with tf.GradientTape() as tape:\n",
    "      result = input\n",
    "      to_backprop = 0\n",
    "      for i in range(stabilise_in):\n",
    "        result = forward(result, neigh, feature, model)\n",
    "      for i in range(stabilisation_check):\n",
    "        result = forward(result, neigh, feature, model)\n",
    "        to_backprop += 1 / stabilisation_check * loss(ground, result[:, 0, :])\n",
    "      model.reset_states()\n",
    "      gradient = tape.gradient(to_backprop, model.weights)\n",
    "      optimizer.apply_gradients(zip(gradient, model.weights))\n",
    "    if(j % each == 0):\n",
    "      print(\"Epoch \", j ,\"Loss = \", tf.reduce_sum(to_backprop))  "
   ]
  },
  {
   "cell_type": "markdown",
   "metadata": {
    "id": "WFGPPgD_hdHi"
   },
   "source": [
    "\n",
    "## Train loop\n",
    "Here I want only to find a function that overfits, so it solve this specific problem.\n"
   ]
  },
  {
   "cell_type": "code",
   "execution_count": 11,
   "metadata": {
    "colab": {
     "base_uri": "https://localhost:8080/"
    },
    "id": "56wyzp3MdzYy",
    "outputId": "16270c05-acb3-40a5-cd24-f5a114f12706"
   },
   "outputs": [
    {
     "name": "stdout",
     "output_type": "stream",
     "text": [
      "Epoch  0 Loss =  tf.Tensor(2.8457894, shape=(), dtype=float32)\n",
      "Epoch  50 Loss =  tf.Tensor(2.5870538, shape=(), dtype=float32)\n",
      "Epoch  100 Loss =  tf.Tensor(2.3137977, shape=(), dtype=float32)\n",
      "Epoch  150 Loss =  tf.Tensor(1.9629414, shape=(), dtype=float32)\n",
      "Epoch  200 Loss =  tf.Tensor(1.4829103, shape=(), dtype=float32)\n",
      "Epoch  250 Loss =  tf.Tensor(0.92462814, shape=(), dtype=float32)\n",
      "Epoch  300 Loss =  tf.Tensor(0.46465588, shape=(), dtype=float32)\n",
      "Epoch  350 Loss =  tf.Tensor(0.14756806, shape=(), dtype=float32)\n",
      "Epoch  400 Loss =  tf.Tensor(0.029100288, shape=(), dtype=float32)\n",
      "Epoch  450 Loss =  tf.Tensor(0.006344094, shape=(), dtype=float32)\n",
      "Epoch  500 Loss =  tf.Tensor(0.0038822228, shape=(), dtype=float32)\n",
      "Epoch  550 Loss =  tf.Tensor(0.003471665, shape=(), dtype=float32)\n",
      "Epoch  600 Loss =  tf.Tensor(0.0032160506, shape=(), dtype=float32)\n",
      "Epoch  650 Loss =  tf.Tensor(0.013132488, shape=(), dtype=float32)\n",
      "Epoch  700 Loss =  tf.Tensor(0.004497391, shape=(), dtype=float32)\n",
      "Epoch  750 Loss =  tf.Tensor(0.0032343583, shape=(), dtype=float32)\n",
      "Epoch  800 Loss =  tf.Tensor(0.0029716021, shape=(), dtype=float32)\n",
      "Epoch  850 Loss =  tf.Tensor(0.0028017226, shape=(), dtype=float32)\n",
      "Epoch  900 Loss =  tf.Tensor(0.0026657507, shape=(), dtype=float32)\n",
      "Epoch  950 Loss =  tf.Tensor(0.002554507, shape=(), dtype=float32)\n",
      "Epoch  1000 Loss =  tf.Tensor(0.0024617333, shape=(), dtype=float32)\n",
      "Epoch  1050 Loss =  tf.Tensor(0.0023824344, shape=(), dtype=float32)\n",
      "Epoch  1100 Loss =  tf.Tensor(0.0026087447, shape=(), dtype=float32)\n",
      "Epoch  1150 Loss =  tf.Tensor(0.0023199192, shape=(), dtype=float32)\n",
      "Epoch  1200 Loss =  tf.Tensor(0.0022456562, shape=(), dtype=float32)\n",
      "Epoch  1250 Loss =  tf.Tensor(0.0021809805, shape=(), dtype=float32)\n",
      "Epoch  1300 Loss =  tf.Tensor(0.0025793226, shape=(), dtype=float32)\n",
      "Epoch  1350 Loss =  tf.Tensor(0.0021427744, shape=(), dtype=float32)\n",
      "Epoch  1400 Loss =  tf.Tensor(0.002072237, shape=(), dtype=float32)\n",
      "Epoch  1450 Loss =  tf.Tensor(0.002010046, shape=(), dtype=float32)\n",
      "Epoch  1500 Loss =  tf.Tensor(0.001952145, shape=(), dtype=float32)\n",
      "Epoch  1550 Loss =  tf.Tensor(0.0018969089, shape=(), dtype=float32)\n",
      "Epoch  1600 Loss =  tf.Tensor(0.0021099043, shape=(), dtype=float32)\n",
      "Epoch  1650 Loss =  tf.Tensor(0.0018287745, shape=(), dtype=float32)\n",
      "Epoch  1700 Loss =  tf.Tensor(0.0017707942, shape=(), dtype=float32)\n",
      "Epoch  1750 Loss =  tf.Tensor(0.0017162296, shape=(), dtype=float32)\n",
      "Epoch  1800 Loss =  tf.Tensor(0.0016636333, shape=(), dtype=float32)\n",
      "Epoch  1850 Loss =  tf.Tensor(0.0018312468, shape=(), dtype=float32)\n",
      "Epoch  1900 Loss =  tf.Tensor(0.0015936008, shape=(), dtype=float32)\n",
      "Epoch  1950 Loss =  tf.Tensor(0.0015390099, shape=(), dtype=float32)\n",
      "Epoch  2000 Loss =  tf.Tensor(0.0014874758, shape=(), dtype=float32)\n",
      "Epoch  2050 Loss =  tf.Tensor(0.0014377201, shape=(), dtype=float32)\n",
      "Epoch  2100 Loss =  tf.Tensor(0.0016837202, shape=(), dtype=float32)\n",
      "Epoch  2150 Loss =  tf.Tensor(0.0013765591, shape=(), dtype=float32)\n",
      "Epoch  2200 Loss =  tf.Tensor(0.0013234179, shape=(), dtype=float32)\n",
      "Epoch  2250 Loss =  tf.Tensor(0.001274656, shape=(), dtype=float32)\n",
      "Epoch  2300 Loss =  tf.Tensor(0.00122798, shape=(), dtype=float32)\n",
      "Epoch  2350 Loss =  tf.Tensor(0.0011827056, shape=(), dtype=float32)\n",
      "Epoch  2400 Loss =  tf.Tensor(0.0016418954, shape=(), dtype=float32)\n",
      "Epoch  2450 Loss =  tf.Tensor(0.0011366121, shape=(), dtype=float32)\n",
      "Epoch  2500 Loss =  tf.Tensor(0.0010841498, shape=(), dtype=float32)\n",
      "Epoch  2550 Loss =  tf.Tensor(0.001039345, shape=(), dtype=float32)\n",
      "Epoch  2600 Loss =  tf.Tensor(0.0009971518, shape=(), dtype=float32)\n",
      "Epoch  2650 Loss =  tf.Tensor(0.00095649704, shape=(), dtype=float32)\n",
      "Epoch  2700 Loss =  tf.Tensor(0.0009170372, shape=(), dtype=float32)\n",
      "Epoch  2750 Loss =  tf.Tensor(0.0008786466, shape=(), dtype=float32)\n",
      "Epoch  2800 Loss =  tf.Tensor(0.0011172389, shape=(), dtype=float32)\n",
      "Epoch  2850 Loss =  tf.Tensor(0.00082922506, shape=(), dtype=float32)\n",
      "Epoch  2900 Loss =  tf.Tensor(0.00078854297, shape=(), dtype=float32)\n",
      "Epoch  2950 Loss =  tf.Tensor(0.00075248396, shape=(), dtype=float32)\n",
      "tf.Tensor(\n",
      "[[[1.         0.00990897]]\n",
      "\n",
      " [[0.         0.9761386 ]]\n",
      "\n",
      " [[0.         2.0261903 ]]\n",
      "\n",
      " [[0.         2.9908953 ]]], shape=(4, 1, 2), dtype=float32)\n"
     ]
    }
   ],
   "source": [
    "#seed(42)\n",
    "#tf.random.set_seed(42)\n",
    "model = instatiate(input, mode) ## comment to avoid the recomputation of weights\n",
    "\n",
    "iteration = 3000\n",
    "stabilise_in = 4  \n",
    "stabilisation_check = 10\n",
    "\n",
    "loss = tf.losses.mse\n",
    "optimizer = tf.optimizers.Adam()\n",
    "data = (input, neigh, feature, ground)\n",
    "train(model, data, iteration, stabilise_in, stabilisation_check, loss, optimizer, 50)\n",
    "\n",
    "result = input\n",
    "for i in range(10):\n",
    "  result = forward(result, neigh, feature, model)\n",
    "print(result)\n",
    "model.reset_states()"
   ]
  },
  {
   "cell_type": "markdown",
   "metadata": {},
   "source": [
    "## Save model"
   ]
  },
  {
   "cell_type": "code",
   "execution_count": 18,
   "metadata": {},
   "outputs": [
    {
     "name": "stdout",
     "output_type": "stream",
     "text": [
      "INFO:tensorflow:Assets written to: model_dense/assets\n"
     ]
    }
   ],
   "source": [
    "model.save('model_dense')"
   ]
  },
  {
   "cell_type": "markdown",
   "metadata": {
    "id": "RqbsEJEnWOc7"
   },
   "source": [
    "# Check result, generalisation\n",
    "In this part, I try to use the same network in another graph, to see if it can be used in different graphs.\n",
    "\n",
    "## Linear network"
   ]
  },
  {
   "cell_type": "code",
   "execution_count": 47,
   "metadata": {
    "colab": {
     "base_uri": "https://localhost:8080/"
    },
    "id": "1LDTXF5knmGv",
    "outputId": "00d048a0-6c41-42d8-b33f-a721c8a66ee6"
   },
   "outputs": [
    {
     "name": "stdout",
     "output_type": "stream",
     "text": [
      "tf.Tensor(\n",
      "[[[1.         0.00990897]]\n",
      "\n",
      " [[0.         0.9761386 ]]\n",
      "\n",
      " [[0.         2.0261903 ]]\n",
      "\n",
      " [[0.         2.9908953 ]]\n",
      "\n",
      " [[0.         3.8771904 ]]], shape=(5, 1, 2), dtype=float32)\n"
     ]
    }
   ],
   "source": [
    "n = 50000\n",
    "feature_validation = tf.constant([\n",
    "                     [1], \n",
    "                     [0],\n",
    "                     [0],\n",
    "                     [0],\n",
    "                     [0]\n",
    "                    ], dtype=tf.float32)\n",
    "output_validation = tf.constant([\n",
    "                     [0], \n",
    "                     [n],\n",
    "                     [n],\n",
    "                     [n],\n",
    "                     [n]\n",
    "                    ], dtype=tf.float32)\n",
    "input_validation = tf.concat([feature_validation, output_validation], axis = 1)\n",
    "input_validation = input_validation[:,tf.newaxis, :]\n",
    "neigh_validation = tf.constant([\n",
    "                     [n, 1, n, n, n], \n",
    "                     [1, n, 1, n, n],\n",
    "                     [n, 1, n, 1, n],\n",
    "                     [n, n, 1, n, 1],\n",
    "                     [n, n, n, 1, n],\n",
    "                    ], dtype=tf.float32)\n",
    "\n",
    "change_model = copy_model(model, mode, input_validation)\n",
    "\n",
    "result_validation = input_validation\n",
    "model.reset_states()\n",
    "for i in range(10):\n",
    "  result_validation = forward(result_validation, neigh_validation, feature_validation, change_model, False)\n",
    "print(result_validation)"
   ]
  },
  {
   "cell_type": "markdown",
   "metadata": {},
   "source": [
    "## Square like"
   ]
  },
  {
   "cell_type": "code",
   "execution_count": 51,
   "metadata": {},
   "outputs": [
    {
     "name": "stdout",
     "output_type": "stream",
     "text": [
      "tf.Tensor(\n",
      "[[[0.         0.9761386 ]]\n",
      "\n",
      " [[1.         0.00990897]]\n",
      "\n",
      " [[0.         2.0261903 ]]\n",
      "\n",
      " [[0.         0.9761386 ]]], shape=(4, 1, 2), dtype=float32)\n"
     ]
    }
   ],
   "source": [
    "n = 50000\n",
    "feature_validation = tf.constant([\n",
    "                     [1], \n",
    "                     [0],\n",
    "                     [0],\n",
    "                     [0],\n",
    "                    ], dtype=tf.float32)\n",
    "output_validation = tf.constant([\n",
    "                     [0], \n",
    "                     [n],\n",
    "                     [n],\n",
    "                     [n],\n",
    "                    ], dtype=tf.float32)\n",
    "input_validation = tf.concat([feature_validation, output_validation], axis = 1)\n",
    "input_validation = input_validation[:,tf.newaxis, :]\n",
    "neigh_validation = tf.constant([\n",
    "                     [n, 1, 1, n], \n",
    "                     [1, n, n, 1],\n",
    "                     [1, n, n, 1],\n",
    "                     [n, 1, 1, n],\n",
    "                    ], dtype=tf.float32)\n",
    "\n",
    "change_model = copy_model(model, mode, input_validation)\n",
    "\n",
    "result_validation = input_validation\n",
    "model.reset_states() ## if has recurrent layers\n",
    "for i in range(10):\n",
    "  result_validation = forward(result_validation, neigh_validation, feature_validation, change_model, False)\n",
    "print(result_validation)"
   ]
  },
  {
   "cell_type": "markdown",
   "metadata": {},
   "source": [
    "## Local test"
   ]
  },
  {
   "cell_type": "code",
   "execution_count": 64,
   "metadata": {},
   "outputs": [
    {
     "data": {
      "text/plain": [
       "<tf.Tensor: shape=(1, 1), dtype=float32, numpy=array([[90.11146]], dtype=float32)>"
      ]
     },
     "execution_count": 64,
     "metadata": {},
     "output_type": "execute_result"
    }
   ],
   "source": [
    "model(tf.constant([[0, 100]])) ## should be > 100"
   ]
  }
 ],
 "metadata": {
  "colab": {
   "authorship_tag": "ABX9TyP9O5CIu3uDdkZ/uIe7V0gL",
   "collapsed_sections": [],
   "include_colab_link": true,
   "name": "test-with-rnn.ipynb",
   "provenance": []
  },
  "kernelspec": {
   "display_name": "Python 3",
   "language": "python",
   "name": "python3"
  },
  "language_info": {
   "codemirror_mode": {
    "name": "ipython",
    "version": 3
   },
   "file_extension": ".py",
   "mimetype": "text/x-python",
   "name": "python",
   "nbconvert_exporter": "python",
   "pygments_lexer": "ipython3",
   "version": "3.8.8"
  }
 },
 "nbformat": 4,
 "nbformat_minor": 4
}
