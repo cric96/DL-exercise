{
  "nbformat": 4,
  "nbformat_minor": 0,
  "metadata": {
    "colab": {
      "name": "test-with-rnn.ipynb",
      "provenance": [],
      "collapsed_sections": [],
      "include_colab_link": true
    },
    "kernelspec": {
      "display_name": "Python 3",
      "language": "python",
      "name": "python3"
    },
    "language_info": {
      "codemirror_mode": {
        "name": "ipython",
        "version": 3
      },
      "file_extension": ".py",
      "mimetype": "text/x-python",
      "name": "python",
      "nbconvert_exporter": "python",
      "pygments_lexer": "ipython3",
      "version": "3.8.8"
    },
    "accelerator": "GPU"
  },
  "cells": [
    {
      "cell_type": "markdown",
      "metadata": {
        "id": "view-in-github",
        "colab_type": "text"
      },
      "source": [
        "<a href=\"https://colab.research.google.com/github/cric96/DL-exercise/blob/main/test_with_rnn.ipynb\" target=\"_parent\"><img src=\"https://colab.research.google.com/assets/colab-badge.svg\" alt=\"Open In Colab\"/></a>"
      ]
    },
    {
      "cell_type": "markdown",
      "metadata": {
        "id": "Ji2Yp08lPMHJ"
      },
      "source": [
        "# Neural Networks applied in Aggregate Computing\n",
        "In this notebook, I tried to apply Neural Network and Recurrent Neural Networks (RNN) in the context of Aggregate Computing (AC).\n",
        "\n",
        "## Model\n",
        "\n",
        "Usually, RNN are trained in indipendent sequences. In case of Aggregate Computing, the temporal sequence are correlated with each other following a neighbourhood policy. \n",
        "\n",
        "The key idea here is:\n",
        "- express the system as a graph. Offline we can imagine to access to the entire system\n",
        "- in each time step, we aggregate data from the neighbours and then we use RNN to compute the right output"
      ]
    },
    {
      "cell_type": "markdown",
      "metadata": {
        "id": "tihJbe7wP_L7"
      },
      "source": [
        "# Imports"
      ]
    },
    {
      "cell_type": "code",
      "metadata": {
        "id": "ld4IkeCHdg9f"
      },
      "source": [
        "import tensorflow as tf\n",
        "from datetime import datetime\n",
        "from numpy.random import seed\n",
        "import datetime\n",
        "%load_ext tensorboard"
      ],
      "execution_count": null,
      "outputs": []
    },
    {
      "cell_type": "markdown",
      "metadata": {
        "id": "DCXGw5707Rv7"
      },
      "source": [
        "# Simple Graph\n",
        "\n",
        "In this model, I model graph as:\n",
        "$G = (N, E)$\n",
        "\n",
        "Where, $N$ contains a feature vector and an output vector.\n",
        "\n",
        "$E$ is expressed as adjacency matrix, so: $E_{i,j} = 1$ iff $i$ is neighbour of $j$.\n",
        "\n",
        "Input is a matrix contains the concatenation of feature vector and output vector, something like: $ I(n) = <f(n), o(n)>$.\n",
        "Where $<a, b, c>$ means the column-wise fector concatenation. \n",
        "For instance, giving a vector $a = [1, 2]$ and $b = [2, 3]$, $<a,b> = [1, 2, 2, 3]$.\n",
        "\n",
        "The neighbour aggregation data can be computed leveraging matrix multiplication --- so increasing traning performance.\n",
        "$$ reduction(E * F) $$\n",
        "Where F contains all node features.\n",
        "$reduction$ is a multiset function (e.g. summation, mean,...).\n",
        "\n",
        "Pay attention, this model can be easly used in a decentralized situation.\n",
        "Indeed, the data aggregation will be done without global adjency matrix but only retrieving neighbour data. The dense layer already works locally."
      ]
    },
    {
      "cell_type": "code",
      "metadata": {
        "id": "DaicADIO7U34"
      },
      "source": [
        "n = 50000\n",
        "feature = tf.constant([\n",
        "                     [1], \n",
        "                     [0],\n",
        "                     [0],\n",
        "                     [0],\n",
        "                    ], dtype=tf.float32)\n",
        "output = tf.constant([\n",
        "                     [0], \n",
        "                     [n],\n",
        "                     [n],\n",
        "                     [n],\n",
        "                    ], dtype=tf.float32)\n",
        "\n",
        "input = tf.concat([feature, output], axis = 1)\n",
        "input = input[:,tf.newaxis, :]\n",
        "\n",
        "neigh = tf.constant([\n",
        "                     [n, 1, n, n], \n",
        "                     [1, n, 1, n],\n",
        "                     [n, 1, n, 1],\n",
        "                     [n, n, 1, n],\n",
        "                    ], dtype=tf.float32)\n",
        "\n",
        "ground = tf.constant([\n",
        "                     [0], \n",
        "                     [1],\n",
        "                     [2],\n",
        "                     [3],\n",
        "                    ], dtype=tf.float32)"
      ],
      "execution_count": null,
      "outputs": []
    },
    {
      "cell_type": "markdown",
      "metadata": {
        "id": "KRY-rUZ27Y0E"
      },
      "source": [
        "# Forward Pass\n",
        "\n",
        "Taking the output of previous step, adjecency matrix, and feature vector, this function compute the value of the next evaluation.\n",
        "So\n",
        "1. compute neighbourhood feature via aggregation\n",
        "2. concat neighbourhood feature with local feature and previous output\n",
        "3. perform a forward pass of a neural network.\n"
      ]
    },
    {
      "cell_type": "code",
      "metadata": {
        "id": "UKorlgUN7arq"
      },
      "source": [
        "def forward(result, neigh, feature, model, log_enable=False):\n",
        "  if(log_enable):\n",
        "    print(\"Input = \", result)\n",
        "  reshape = tf.reshape(result[:,:, 1], feature.shape[0])\n",
        "  neigh_evaluation = tf.reduce_min(tf.multiply(neigh, reshape), 1) ## pass reduction strategy\n",
        "  input_network = tf.concat([result[:,:, 0], neigh_evaluation[:, tf.newaxis]], 1)\n",
        "  if(log_enable):\n",
        "    print(\"Neighbour Aggregation = \", input_network[:, tf.newaxis])\n",
        "  result = model(input_network[:, tf.newaxis])\n",
        "  result = tf.reshape(result, feature.shape[:2]) ## adapt the shape in order to work both in linear model and in the recurrent model.\n",
        "  result = tf.concat([feature, result], axis = 1)\n",
        "  if(log_enable):\n",
        "    print(\"Output = \", result)\n",
        "  return tf.expand_dims(result, [1])"
      ],
      "execution_count": null,
      "outputs": []
    },
    {
      "cell_type": "markdown",
      "metadata": {
        "id": "0aJqP660S5W4"
      },
      "source": [
        "# Model creation\n",
        "Create a sequential model given layers and the input shape"
      ]
    },
    {
      "cell_type": "code",
      "metadata": {
        "id": "CdXR3Tb3TV8l"
      },
      "source": [
        "def create_model(input_shape, layers):\n",
        "  input_layer = tf.keras.layers.InputLayer(input_shape=input_shape[1:], batch_size=input_shape[0])\n",
        "  layers.insert(0, input_layer)\n",
        "  return tf.keras.Sequential(layers)"
      ],
      "execution_count": null,
      "outputs": []
    },
    {
      "cell_type": "markdown",
      "metadata": {
        "id": "ibOdTAPsnGEf"
      },
      "source": [
        "## Recurrent model\n",
        "Simple network creation with multiple recurrent layer \n"
      ]
    },
    {
      "cell_type": "code",
      "metadata": {
        "id": "8oNvEE-Bh4B1"
      },
      "source": [
        "def instantiate_layers(output_count = 1):\n",
        "  return [\n",
        "    tf.keras.layers.GRU(units = 4, activation='relu', return_sequences=True, stateful=True),\n",
        "    tf.keras.layers.GRU(units = output_count, activation='relu', return_sequences=False, stateful=True, bias_initializer='ones'),\n",
        "  ]"
      ],
      "execution_count": null,
      "outputs": []
    },
    {
      "cell_type": "markdown",
      "metadata": {
        "id": "eLAigDrToouO"
      },
      "source": [
        "## Linear Model\n",
        "Simple network with multiple linear layer"
      ]
    },
    {
      "cell_type": "code",
      "metadata": {
        "id": "9DneyuoJoltR"
      },
      "source": [
        "def instantiate_linear_layers(output_count = 1):\n",
        "  return [\n",
        "    tf.keras.layers.Dense(units = 64, activation='relu'),\n",
        "    tf.keras.layers.Dense(units = 32, activation='relu'),\n",
        "    tf.keras.layers.Dense(units = 16, activation='relu'),\n",
        "    tf.keras.layers.Dense(units = 8, activation='relu'),\n",
        "    tf.keras.layers.Dense(units = 4, activation='relu'),\n",
        "    tf.keras.layers.Dense(units = output_count, activation='relu', kernel_initializer='lecun_normal',bias_initializer='ones')\n",
        "  ]"
      ],
      "execution_count": null,
      "outputs": []
    },
    {
      "cell_type": "markdown",
      "metadata": {
        "id": "I2iXarjQrq10"
      },
      "source": [
        "## Model instatiation\n"
      ]
    },
    {
      "cell_type": "code",
      "metadata": {
        "id": "JFidlC53rvyL"
      },
      "source": [
        "linear = \"linear\"\n",
        "recurrent = \"recurrent\"\n",
        "same = \"same\"\n",
        "\n",
        "def instatiate(input, mode = \"same\", output_count = 1):\n",
        "  if mode == linear:\n",
        "    return create_model(input.shape, instantiate_linear_layers(output_count))\n",
        "  elif mode == recurrent:\n",
        "    return create_model(input.shape, instantiate_layers(output_count))\n",
        "\n",
        "def copy_model(model, mode = \"same\", input = \"\", output_count = 1):\n",
        "  if mode == linear:\n",
        "    return model\n",
        "  elif mode == recurrent:\n",
        "    change_model = instatiate(input, recurrent, output_count)\n",
        "    change_model.set_weights(model.get_weights())\n",
        "    return change_model\n",
        "mode = linear\n",
        "model = instatiate(input, linear)"
      ],
      "execution_count": null,
      "outputs": []
    },
    {
      "cell_type": "markdown",
      "metadata": {
        "id": "kZquNuutUD-n"
      },
      "source": [
        "# Train function"
      ]
    },
    {
      "cell_type": "code",
      "metadata": {
        "id": "xvzeO1W3UGi4"
      },
      "source": [
        "## TODO pass input and network\n",
        "def train(model, forward_fn, data, iteration, stabilise_in, stabilisation_check, loss, optimizer, each=100, verbose=False, store=False):\n",
        "  input, neigh, feature, ground = data\n",
        "  for j in range(iteration):\n",
        "    with tf.GradientTape() as tape:\n",
        "      result = input\n",
        "      to_backprop = 0\n",
        "      for i in range(stabilise_in):\n",
        "        result = forward_fn(result, neigh, feature, model)\n",
        "      for i in range(stabilisation_check):\n",
        "        result = forward_fn(result, neigh, feature, model)\n",
        "        to_backprop += 1 / stabilisation_check * loss(ground, result[:, 0, 1:2])\n",
        "      model.reset_states()\n",
        "      \n",
        "      gradient = tape.gradient(to_backprop, model.weights)\n",
        "      optimizer.apply_gradients(zip(gradient, model.weights))\n",
        "    if(j % each == 0):\n",
        "      if(verbose == True):\n",
        "        partial_result = result[:, 0, 1:2]\n",
        "        tf.print(\"Ground truth: \\n\", tf.reshape(ground, ground.shape[0]))\n",
        "        tf.print(\"Current prediciton \\n\", tf.reshape(partial_result, result.shape[0]))\n",
        "        tf.print(\"Full output \\n\", result)\n",
        "      if(store):\n",
        "        model.save('epoch/model_dense_' + str(j))\n",
        "      print(\"Epoch \", j ,\"Loss = \", tf.reduce_sum(to_backprop).numpy())"
      ],
      "execution_count": null,
      "outputs": []
    },
    {
      "cell_type": "markdown",
      "metadata": {
        "id": "WFGPPgD_hdHi"
      },
      "source": [
        "\n",
        "## Train loop\n",
        "Here I want only to find a function that overfits, so it solve this specific problem.\n"
      ]
    },
    {
      "cell_type": "code",
      "metadata": {
        "id": "56wyzp3MdzYy"
      },
      "source": [
        "#seed(42)\n",
        "#tf.random.set_seed(42)\n",
        "model = instatiate(input, mode) ## comment to avoid the recomputation of weights\n",
        "\n",
        "iteration = 2000\n",
        "stabilise_in = 2 \n",
        "stabilisation_check = 10\n",
        "\n",
        "loss = tf.losses.mse\n",
        "optimizer = tf.optimizers.Adam()\n",
        "data = (input, neigh, feature, ground)\n",
        "train(model, forward, data, iteration, stabilise_in, stabilisation_check, loss, optimizer, 50)"
      ],
      "execution_count": null,
      "outputs": []
    },
    {
      "cell_type": "markdown",
      "metadata": {
        "id": "VfW4VKUuux9c"
      },
      "source": [
        "# Validation\n",
        "Check the model result"
      ]
    },
    {
      "cell_type": "code",
      "metadata": {
        "id": "Zw1oCt67ux9c"
      },
      "source": [
        "result = input\n",
        "for i in range(10):\n",
        "  result = forward(result, neigh, feature, model)\n",
        "print(result)\n",
        "model.reset_states()"
      ],
      "execution_count": null,
      "outputs": []
    },
    {
      "cell_type": "markdown",
      "metadata": {
        "id": "warD1kFTux9c"
      },
      "source": [
        "## Save model"
      ]
    },
    {
      "cell_type": "code",
      "metadata": {
        "id": "iLlFmSiGux9c"
      },
      "source": [
        "model.save('model_dense_2')"
      ],
      "execution_count": null,
      "outputs": []
    },
    {
      "cell_type": "markdown",
      "metadata": {
        "id": "RqbsEJEnWOc7"
      },
      "source": [
        "# Check result, generalisation\n",
        "In this part, I try to use the same network in another graph, to see if it can be used in different graphs.\n",
        "\n",
        "## Linear network"
      ]
    },
    {
      "cell_type": "code",
      "metadata": {
        "id": "1LDTXF5knmGv"
      },
      "source": [
        "n = 50000\n",
        "feature_validation = tf.constant([\n",
        "                     [1], \n",
        "                     [0],\n",
        "                     [0],\n",
        "                     [0],\n",
        "                     [0]\n",
        "                    ], dtype=tf.float32)\n",
        "output_validation = tf.constant([\n",
        "                     [0], \n",
        "                     [n],\n",
        "                     [n],\n",
        "                     [n],\n",
        "                     [n]\n",
        "                    ], dtype=tf.float32)\n",
        "input_validation = tf.concat([feature_validation, output_validation], axis = 1)\n",
        "input_validation = input_validation[:,tf.newaxis, :]\n",
        "neigh_validation = tf.constant([\n",
        "                     [n, 1, n, n, n], \n",
        "                     [1, n, 1, n, n],\n",
        "                     [n, 1, n, 1, n],\n",
        "                     [n, n, 1, n, 1],\n",
        "                     [n, n, n, 1, n],\n",
        "                    ], dtype=tf.float32)\n",
        "\n",
        "change_model = copy_model(model, mode, input_validation)\n",
        "\n",
        "result_validation = input_validation\n",
        "model.reset_states()\n",
        "for i in range(4):\n",
        "  result_validation = forward(result_validation, neigh_validation, feature_validation, change_model, False)\n",
        "print(result_validation)"
      ],
      "execution_count": null,
      "outputs": []
    },
    {
      "cell_type": "markdown",
      "metadata": {
        "id": "7U7vKLDLux9d"
      },
      "source": [
        "## Square like"
      ]
    },
    {
      "cell_type": "code",
      "metadata": {
        "id": "q0i3JozYux9d"
      },
      "source": [
        "n = 50000\n",
        "feature_validation = tf.constant([\n",
        "                     [1], \n",
        "                     [0],\n",
        "                     [0],\n",
        "                     [0],\n",
        "                    ], dtype=tf.float32)\n",
        "output_validation = tf.constant([\n",
        "                     [0], \n",
        "                     [n],\n",
        "                     [n],\n",
        "                     [n],\n",
        "                    ], dtype=tf.float32)\n",
        "input_validation = tf.concat([feature_validation, output_validation], axis = 1)\n",
        "input_validation = input_validation[:,tf.newaxis, :]\n",
        "neigh_validation = tf.constant([\n",
        "                     [n, 1, 1, n], \n",
        "                     [1, n, n, 1],\n",
        "                     [1, n, n, 1],\n",
        "                     [n, 1, 1, n],\n",
        "                    ], dtype=tf.float32)\n",
        "\n",
        "change_model = copy_model(model, mode, input_validation)\n",
        "\n",
        "result_validation = input_validation\n",
        "model.reset_states() ## if has recurrent layers\n",
        "for i in range(2):\n",
        "  result_validation = forward(result_validation, neigh_validation, feature_validation, change_model, False)\n",
        "print(result_validation)"
      ],
      "execution_count": null,
      "outputs": []
    },
    {
      "cell_type": "markdown",
      "metadata": {
        "id": "UF6xoMl5ux9e"
      },
      "source": [
        "## Local test"
      ]
    },
    {
      "cell_type": "code",
      "metadata": {
        "id": "B5haxek8ux9e"
      },
      "source": [
        "print(model(tf.constant([[0, 100]]))) ## should be ~ 101\n",
        "print(model(tf.constant([[0, 10]]))) ## should be ~ 11"
      ],
      "execution_count": null,
      "outputs": []
    },
    {
      "cell_type": "markdown",
      "metadata": {
        "id": "IHVrOZFxux9e"
      },
      "source": [
        "# Advanced graph data\n",
        "In this case, we suppose to have a collective state that will evolve accordingly the node execution"
      ]
    },
    {
      "cell_type": "code",
      "metadata": {
        "id": "EtqsIucqux9f"
      },
      "source": [
        "n = 10\n",
        "feature_state = tf.constant([[1],[0],[0],[0],[0],[0],[0],[0]], dtype=tf.float32)\n",
        "output_state = tf.constant([[0],[n],[n],[n],[1],[2],[3],[4]], dtype=tf.float32)\n",
        "state = tf.constant([[0],[0],[0],[0],[0],[0],[0],[0]], dtype=tf.float32)\n",
        "#state = tf.random.uniform((8, 1), minval=0, maxval=1)\n",
        "\n",
        "input_state = tf.concat([feature_state, output_state, state], axis = 1)\n",
        "input_state = input_state[:,tf.newaxis, :]\n",
        "\n",
        "neigh_state = tf.constant([\n",
        "                     [n, 1, n, n, n, n, n, n],\n",
        "                     [1, n, 1, n, n, n, n, n],\n",
        "                     [n, 1, n, 1, n, n, n, n],\n",
        "                     [n, n, 1, n, n, n, n, n],\n",
        "                     [n, n, n, n, n, 1, n, n],\n",
        "                     [n, n, n, n, 1, n, 1, n],\n",
        "                     [n, n, n, n, n, 1, n, 1],\n",
        "                     [n, n, n, n, n, n, 1, n],\n",
        "                    ], dtype=tf.float32)\n",
        "ground_state = tf.constant([[0],[1],[2],[3],[n],[n],[n],[n]], dtype=tf.float32)\n",
        "## normalisation\n",
        "feature_state = feature_state / n\n",
        "output_state = output_state / n\n",
        "neigh_state = neigh_state / n\n",
        "ground_state = ground_state / n"
      ],
      "execution_count": null,
      "outputs": []
    },
    {
      "cell_type": "markdown",
      "metadata": {
        "id": "BseoZcAYux9f"
      },
      "source": [
        "## Forward pass rivisited\n"
      ]
    },
    {
      "cell_type": "code",
      "metadata": {
        "id": "2wn7P4zhux9f"
      },
      "source": [
        "def forward_with_state(result, neigh, feature, model_eval, log_enable=False):\n",
        "  input_shape_data = result[:, :, 1:]\n",
        "  if(log_enable):\n",
        "    print(\"Input = \", result)\n",
        "  old_output = tf.reshape(result[:,:, 1], feature.shape[0])\n",
        "  old_state = tf.reshape(result[:,:,2], feature.shape[0])\n",
        "  max_value = tf.reduce_max(neigh)\n",
        "  neigh_with_zero = tf.where(neigh == max_value, 0.0, 1.0)\n",
        "  neigh_output_evaluation = tf.reduce_min(tf.multiply(neigh, old_output), 1) ## pass reduction strategy\n",
        "  neigh_state_evaluation = tf.reduce_sum(tf.multiply(neigh_with_zero, old_state), 1) ## state evolution strategy\n",
        "  neigh_count = tf.reduce_sum(neigh_with_zero, 1)\n",
        "  neigh_state_evaluation = neigh_state_evaluation / neigh_count # mean\n",
        "  input_network = tf.concat([result[:,:, 0], neigh_output_evaluation[:, tf.newaxis], neigh_state_evaluation[:, tf.newaxis]], 1)\n",
        "  if(log_enable):\n",
        "    print(\"Neighbour Aggregation = \", input_network[:, tf.newaxis])\n",
        "  result = model_eval(input_network[:, tf.newaxis])\n",
        "  result = tf.reshape(result, (input_shape_data.shape[0], input_shape_data.shape[2])) ## adapt the shape in order to work both in linear model and in the recurrent model.\n",
        "  result = tf.concat([feature, result], axis = 1)\n",
        "  if(log_enable):\n",
        "    print(\"Output = \", result)\n",
        "  return tf.expand_dims(result, [1])"
      ],
      "execution_count": null,
      "outputs": []
    },
    {
      "cell_type": "markdown",
      "metadata": {
        "id": "AMS-g8tVux9g"
      },
      "source": [
        "# Train revisited"
      ]
    },
    {
      "cell_type": "code",
      "metadata": {
        "id": "emn-8aeiux9g"
      },
      "source": [
        "#seed(42)\n",
        "#tf.random.set_seed(42)\n",
        "model_state = instatiate(input_state, mode, 2) ## comment to avoid the recomputation of weights\n",
        "#model_state = model\n",
        "#model_state = tf.keras.models.load_model('epoch/best_fit_2')\n",
        "iteration = 500\n",
        "stabilise_in = 4\n",
        "stabilisation_check = 7\n",
        "\n",
        "loss = tf.losses.mse\n",
        "optimizer = tf.optimizers.Adam()\n",
        "data_state = (input_state, neigh_state, feature_state, ground_state)\n",
        "train(model_state, forward_with_state, data_state, iteration, stabilise_in, stabilisation_check, loss, optimizer, 50)\n",
        "model_state.reset_states()"
      ],
      "execution_count": null,
      "outputs": []
    },
    {
      "cell_type": "markdown",
      "metadata": {
        "id": "mzqSvfzKux9h"
      },
      "source": [
        "# Validation revisited"
      ]
    },
    {
      "cell_type": "code",
      "metadata": {
        "id": "dhxUrXhgux9h"
      },
      "source": [
        "result = input_state\n",
        "for i in range(10):\n",
        "  result = forward_with_state(result, neigh_state, feature_state, model_state, False)\n",
        "print(result * n)\n",
        "print(ground_state * n)"
      ],
      "execution_count": null,
      "outputs": []
    },
    {
      "cell_type": "markdown",
      "metadata": {
        "id": "Cm6t8idxux9i"
      },
      "source": [
        "# Model evaluation using GA\n",
        "Another way to solve this problem could be leveraging Genetic Algorithm in order to fit the behaviour.\n",
        "In this casa I used [PyGAD](https://arxiv.org/pdf/2106.06158.pdf#page=6&zoom=100,196,781).\n"
      ]
    },
    {
      "cell_type": "markdown",
      "metadata": {
        "id": "KECVOokrvQW8"
      },
      "source": [
        "## Installation of PyGad"
      ]
    },
    {
      "cell_type": "code",
      "metadata": {
        "id": "N_MnrhTuvTGK"
      },
      "source": [
        "! pip install pygad"
      ],
      "execution_count": null,
      "outputs": []
    },
    {
      "cell_type": "markdown",
      "metadata": {
        "id": "TzVVqaPLux9i"
      },
      "source": [
        "## Imports"
      ]
    },
    {
      "cell_type": "code",
      "metadata": {
        "id": "y2Hc3Bgtux9i"
      },
      "source": [
        "import tensorflow.keras\n",
        "import pygad.kerasga\n",
        "import numpy\n",
        "import math\n",
        "import pygad"
      ],
      "execution_count": null,
      "outputs": []
    },
    {
      "cell_type": "markdown",
      "metadata": {
        "id": "4cPfC5SNux9i"
      },
      "source": [
        "## Callback after each iteration"
      ]
    },
    {
      "cell_type": "code",
      "metadata": {
        "id": "JsUHiOl_ux9i"
      },
      "source": [
        "count = 0  \n",
        "def callback_generation_factory(each = 5):\n",
        "  count = 0\n",
        "  def callback_generation(ga_instance):\n",
        "    global count\n",
        "    if(count % each == 0):\n",
        "      print(\"Generation = {generation}\".format(generation=ga_instance.generations_completed))\n",
        "      fitness = fitness=ga_instance.best_solution()[1]\n",
        "      print(\"Fitness    = {fitness}\".format(fitness=fitness))\n",
        "      print(\"Loss       = {loss}\".format(loss=1.0 / fitness))\n",
        "      \n",
        "    count += 1\n",
        "  return callback_generation"
      ],
      "execution_count": null,
      "outputs": []
    },
    {
      "cell_type": "markdown",
      "metadata": {
        "id": "GHfbR8iGux9j"
      },
      "source": [
        "## Model evaluation"
      ]
    },
    {
      "cell_type": "code",
      "metadata": {
        "id": "lSSl3svcux9j"
      },
      "source": [
        "def eval_model(model_inner, input, neigh, feature, ground, forward_fn, stabilise_in, stabilisation_check):\n",
        "  result = input_state\n",
        "  loss = tensorflow.keras.losses.mse\n",
        "  to_backprop = 0\n",
        "  for i in range(stabilise_in):\n",
        "    result = forward_fn(result, neigh_state, feature_state, model_inner)\n",
        "  for i in range(stabilisation_check):\n",
        "    result = forward_fn(result, neigh_state, feature_state, model_inner)\n",
        "    to_backprop += 1 / stabilisation_check * loss(ground, result[:, 0, 1:2])\n",
        "  return (result, to_backprop)"
      ],
      "execution_count": null,
      "outputs": []
    },
    {
      "cell_type": "markdown",
      "metadata": {
        "id": "ZEVzjibyux9j"
      },
      "source": [
        "## Fitness function factory"
      ]
    },
    {
      "cell_type": "code",
      "metadata": {
        "id": "t_a7SUMPux9j"
      },
      "source": [
        "def fitness_factory(model, forward_fn, data, stabilise_in, stabilisation_check):\n",
        "  input, neigh, feature, ground = data\n",
        "  \n",
        "  def fitness(solution, sol_idx):\n",
        "    global keras_ga\n",
        "    solution_weights = pygad.kerasga.model_weights_as_matrix(model=model, weights_vector=solution)\n",
        "    model.set_weights(solution_weights)\n",
        "    _, error = eval_model(model, input, neigh, feature, ground, forward_fn, stabilise_in, stabilisation_check)\n",
        "    mse_error = tf.reduce_sum(error).numpy()\n",
        "    solution_fitness = 1.0/mse_error\n",
        "    solution_fitness = 0 if math.isnan(solution_fitness) else solution_fitness\n",
        "    return solution_fitness\n",
        "  return fitness"
      ],
      "execution_count": null,
      "outputs": []
    },
    {
      "cell_type": "markdown",
      "metadata": {
        "id": "VjqKHJl5oG5_"
      },
      "source": [
        "# Load Model from GDrive (or not)"
      ]
    },
    {
      "cell_type": "code",
      "metadata": {
        "id": "FWooUcKloGVv"
      },
      "source": [
        "from google.colab import drive\n",
        "drive.mount('/content/drive')"
      ],
      "execution_count": null,
      "outputs": []
    },
    {
      "cell_type": "code",
      "metadata": {
        "id": "K19NPrv4oapb"
      },
      "source": [
        "#model = instatiate(input_state, mode, 2) ## comment to avoid the recomputation of weights\n",
        "model = tf.keras.models.load_model('drive/MyDrive/models/GA')"
      ],
      "execution_count": null,
      "outputs": []
    },
    {
      "cell_type": "markdown",
      "metadata": {
        "id": "yWp8S_Lyux9k"
      },
      "source": [
        "## GA run"
      ]
    },
    {
      "cell_type": "code",
      "metadata": {
        "tags": [],
        "id": "RKIdCVPxux9k"
      },
      "source": [
        "#model = instatiate(input_state, mode, 2) ## comment to avoid the recomputation of weights\n",
        "model = tf.keras.models.load_model('model_dense_GA_10')\n",
        "\n",
        "keras_ga = pygad.kerasga.KerasGA(model=model, num_solutions=20)\n",
        "# Prepare the PyGAD parameters. Check the documentation for more information: https://pygad.readthedocs.io/en/latest/README_pygad_ReadTheDocs.html#pygad-ga-class\n",
        "num_generations = 1000 # Number of generations.\n",
        "num_parents_mating = 3 # Number of solutions to be selected as parents in the mating pool.\n",
        "stabilise_in = 10\n",
        "stabilisation_check = 7\n",
        "\n",
        "initial_population = keras_ga.population_weights # Initial population of network weights\n",
        "data = (input_state, neigh_state, feature_state, ground_state)\n",
        "fitness_function = fitness_factory(model, forward_with_state, data, stabilise_in, stabilisation_check)\n",
        "   \n",
        "ga_instance = pygad.GA(num_generations=num_generations,\n",
        "                       keep_parents=2,\n",
        "                       random_mutation_min_val=-0.1,\n",
        "                       init_range_low=-1,\n",
        "                       init_range_high=1,\n",
        "                       random_mutation_max_val=0.1,\n",
        "                       mutation_probability=0.01,\n",
        "                       parent_selection_type=\"rws\",\n",
        "                       crossover_probability=0.001,\n",
        "                       num_parents_mating=num_parents_mating,\n",
        "                       initial_population=initial_population,\n",
        "                       fitness_func=fitness_function,\n",
        "                       on_generation=callback_generation_factory(10))\n",
        "\n",
        "ga_instance.run()\n",
        "\n",
        "# After the generations complete, some plots are showed that summarize how the outputs/fitness values evolve over generations.\n",
        "ga_instance.plot_fitness(title=\"PyGAD & Keras - Iteration vs. Fitness\", linewidth=4)"
      ],
      "execution_count": null,
      "outputs": []
    },
    {
      "cell_type": "markdown",
      "metadata": {
        "id": "20ov14X6ux9l"
      },
      "source": [
        "## GA evaluation"
      ]
    },
    {
      "cell_type": "code",
      "metadata": {
        "id": "p67RQAKOux9l"
      },
      "source": [
        "# Returning the details of the best solution.\n",
        "solution, solution_fitness, solution_idx = ga_instance.best_solution()\n",
        "print(\"Fitness value of the best solution = {solution_fitness}\".format(solution_fitness=solution_fitness))\n",
        "print(\"Index of the best solution : {solution_idx}\".format(solution_idx=solution_idx))\n",
        "solution_weights = pygad.kerasga.model_weights_as_matrix(model=model, weights_vector=solution)\n",
        "model.set_weights(solution_weights)\n",
        "result = input_state\n",
        "result, error = eval_model(model, input_state, neigh_state, feature_state, ground_state, forward_with_state, stabilise_in, stabilisation_check)\n",
        "print(\"Fitness function :\", fitness_function(pygad.kerasga.model_weights_as_vector(model), 0))\n",
        "print(\"Loss : \", tf.reduce_sum(error).numpy())\n",
        "print(\"Loss check : \", 1.0 / tf.reduce_sum(error).numpy())\n",
        "print(\"Result \", result * n)"
      ],
      "execution_count": null,
      "outputs": []
    },
    {
      "cell_type": "code",
      "metadata": {
        "id": "Q60apyaEux9l"
      },
      "source": [
        "model.compile()\n",
        "model.save('model_dense_GA_11')"
      ],
      "execution_count": null,
      "outputs": []
    },
    {
      "cell_type": "code",
      "metadata": {
        "id": "Igg5zQmIoqyg"
      },
      "source": [
        " !zip -r model-7.zip model_dense_GA_11/ "
      ],
      "execution_count": null,
      "outputs": []
    },
    {
      "cell_type": "code",
      "metadata": {
        "id": "L9NHmb8aH0i5"
      },
      "source": [
        "!unzip model-4.zip"
      ],
      "execution_count": null,
      "outputs": []
    },
    {
      "cell_type": "code",
      "metadata": {
        "id": "R4hPPM7vsy-Z"
      },
      "source": [
        "model2 = model"
      ],
      "execution_count": null,
      "outputs": []
    }
  ]
}