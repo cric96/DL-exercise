{
  "nbformat": 4,
  "nbformat_minor": 0,
  "metadata": {
    "colab": {
      "name": "test-with-rnn.ipynb",
      "provenance": [],
      "collapsed_sections": [],
      "authorship_tag": "ABX9TyPj5ceXEnM8zRA+efex2OWH",
      "include_colab_link": true
    },
    "kernelspec": {
      "name": "python3",
      "display_name": "Python 3"
    },
    "language_info": {
      "name": "python"
    }
  },
  "cells": [
    {
      "cell_type": "markdown",
      "metadata": {
        "id": "view-in-github",
        "colab_type": "text"
      },
      "source": [
        "<a href=\"https://colab.research.google.com/github/cric96/DL-exercise/blob/main/test_with_rnn.ipynb\" target=\"_parent\"><img src=\"https://colab.research.google.com/assets/colab-badge.svg\" alt=\"Open In Colab\"/></a>"
      ]
    },
    {
      "cell_type": "code",
      "metadata": {
        "id": "ld4IkeCHdg9f"
      },
      "source": [
        "import tensorflow as tf\n",
        "import tensorboard\n",
        "from datetime import datetime\n",
        "%load_ext tensorboard"
      ],
      "execution_count": null,
      "outputs": []
    },
    {
      "cell_type": "markdown",
      "metadata": {
        "id": "VruBU9tug3qt"
      },
      "source": [
        "# Tensorboard for visualising computational graph"
      ]
    },
    {
      "cell_type": "code",
      "metadata": {
        "id": "aOpL5i37g3J1"
      },
      "source": [
        "!rm -rf ./logs/\n",
        "stamp = datetime.now().strftime(\"%Y%m%d-%H%M%S\")\n",
        "logdir = 'logs/func/%s' % stamp\n",
        "writer = tf.summary.create_file_writer(logdir)\n",
        "%tensorboard --logdir logs/func"
      ],
      "execution_count": null,
      "outputs": []
    },
    {
      "cell_type": "markdown",
      "metadata": {
        "id": "WFGPPgD_hdHi"
      },
      "source": [
        "## Tensorboard example"
      ]
    },
    {
      "cell_type": "code",
      "metadata": {
        "id": "aUiy5-eZhcf8"
      },
      "source": [
        "# The function to be traced.\n",
        "@tf.function\n",
        "def my_func(x, y):\n",
        "  # A simple hand-rolled layer.\n",
        "  return tf.nn.relu(tf.matmul(x, y))\n",
        "\n",
        "# Sample data for your function.\n",
        "x = tf.random.uniform((3, 3))\n",
        "y = tf.random.uniform((3, 3))\n",
        "\n",
        "# Bracket the function call with\n",
        "# tf.summary.trace_on() and tf.summary.trace_export().\n",
        "tf.summary.trace_on(graph=True, profiler=True)\n",
        "# Call only one tf.function when tracing.\n",
        "z = my_func(x, y)\n",
        "with writer.as_default():\n",
        "  tf.summary.trace_export(\n",
        "      name=\"my_func_trace\",\n",
        "      step=0,\n",
        "      profiler_outdir=logdir)"
      ],
      "execution_count": null,
      "outputs": []
    },
    {
      "cell_type": "markdown",
      "metadata": {
        "id": "7H1f_jV5dr_N"
      },
      "source": [
        "# Test with RNN\n",
        "Try to understand how to use batch and how backprop works under the hood"
      ]
    },
    {
      "cell_type": "code",
      "metadata": {
        "colab": {
          "base_uri": "https://localhost:8080/",
          "height": 232
        },
        "id": "56wyzp3MdzYy",
        "outputId": "ba4a78a8-842d-4966-c4da-b444efa0c827"
      },
      "source": [
        "from numpy.random import seed\n",
        "seed(1)\n",
        "tf.random.set_seed(1)\n",
        "rnn0 = tf.keras.layers.LSTM(units = 3, return_sequences=True)\n",
        "\n",
        "rnn = tf.keras.layers.LSTM(units = 1)\n",
        "input = tf.constant([\n",
        "                     [[1, -1]], \n",
        "                     [[0, -1]],\n",
        "                     [[0, -1]],\n",
        "                     [[0, -1]],\n",
        "                    ], dtype=tf.float32)\n",
        "neig = tf.constant([\n",
        "                     [0, 1, 0, 0], \n",
        "                     [1, 0, 1, 0],\n",
        "                     [0, 1, 0, 1],\n",
        "                     [0, 0, 1, 0],\n",
        "                    ], dtype=tf.float32)\n",
        "\n",
        "feature = tf.constant([\n",
        "                     [1], \n",
        "                     [0],\n",
        "                     [0],\n",
        "                     [0],\n",
        "                    ], dtype=tf.float32)\n",
        "\n",
        "ground = tf.constant([\n",
        "                     [1, 0], \n",
        "                     [0, 1],\n",
        "                     [0, 2],\n",
        "                     [0, 3],\n",
        "                    ], dtype=tf.float32)\n",
        "\n",
        "@tf.function\n",
        "def my_func(x, rnn):\n",
        "  # A simple hand-rolled layer.\n",
        "  return rnn(rnn0(x))\n",
        "\n",
        "tf.summary.trace_on(graph=True, profiler=True)\n",
        "loss = tf.losses.mse\n",
        "optimizer = tf.optimizers.SGD()\n",
        "\n",
        "for j in range(10000):\n",
        "  with tf.GradientTape() as tape:\n",
        "\n",
        "    result = input\n",
        "    for i in range(1):\n",
        "      reshape = tf.reshape(input[:,:, 1], [4, 1])\n",
        "      neigh_evaluation = tf.reduce_min(tf.multiply(neig, reshape), 1)\n",
        "      input_network = tf.concat([input[:,:, 1], neigh_evaluation[:, tf.newaxis]], 1)\n",
        "      result = input_network[:, tf.newaxis]\n",
        "      result = my_func(result, rnn)\n",
        "      other = tf.concat([feature, result], axis = 1)\n",
        "      result = tf.expand_dims(other, [1])\n",
        "    to_backprop = loss(ground, result[:, 0, :])\n",
        "    rnn_g, rnn0_g = tape.gradient(-result, [rnn.weights, rnn0.weights])\n",
        "    optimizer.apply_gradients(zip(rnn_g, rnn.weights))\n",
        "    optimizer.apply_gradients(zip(rnn0_g, rnn0.weights))\n",
        "    print(tf.reduce_sum(to_backprop))\n",
        "\n",
        "with writer.as_default():\n",
        "  tf.summary.trace_export(\n",
        "      name=\"rnn\",\n",
        "      step=0,\n",
        "      profiler_outdir=logdir)"
      ],
      "execution_count": 1,
      "outputs": [
        {
          "output_type": "error",
          "ename": "NameError",
          "evalue": "ignored",
          "traceback": [
            "\u001b[0;31m---------------------------------------------------------------------------\u001b[0m",
            "\u001b[0;31mNameError\u001b[0m                                 Traceback (most recent call last)",
            "\u001b[0;32m<ipython-input-1-91654a27b6f9>\u001b[0m in \u001b[0;36m<module>\u001b[0;34m()\u001b[0m\n\u001b[1;32m      1\u001b[0m \u001b[0;32mfrom\u001b[0m \u001b[0mnumpy\u001b[0m\u001b[0;34m.\u001b[0m\u001b[0mrandom\u001b[0m \u001b[0;32mimport\u001b[0m \u001b[0mseed\u001b[0m\u001b[0;34m\u001b[0m\u001b[0;34m\u001b[0m\u001b[0m\n\u001b[1;32m      2\u001b[0m \u001b[0mseed\u001b[0m\u001b[0;34m(\u001b[0m\u001b[0;36m1\u001b[0m\u001b[0;34m)\u001b[0m\u001b[0;34m\u001b[0m\u001b[0;34m\u001b[0m\u001b[0m\n\u001b[0;32m----> 3\u001b[0;31m \u001b[0mtf\u001b[0m\u001b[0;34m.\u001b[0m\u001b[0mrandom\u001b[0m\u001b[0;34m.\u001b[0m\u001b[0mset_seed\u001b[0m\u001b[0;34m(\u001b[0m\u001b[0;36m1\u001b[0m\u001b[0;34m)\u001b[0m\u001b[0;34m\u001b[0m\u001b[0;34m\u001b[0m\u001b[0m\n\u001b[0m\u001b[1;32m      4\u001b[0m \u001b[0mrnn0\u001b[0m \u001b[0;34m=\u001b[0m \u001b[0mtf\u001b[0m\u001b[0;34m.\u001b[0m\u001b[0mkeras\u001b[0m\u001b[0;34m.\u001b[0m\u001b[0mlayers\u001b[0m\u001b[0;34m.\u001b[0m\u001b[0mLSTM\u001b[0m\u001b[0;34m(\u001b[0m\u001b[0munits\u001b[0m \u001b[0;34m=\u001b[0m \u001b[0;36m3\u001b[0m\u001b[0;34m,\u001b[0m \u001b[0mreturn_sequences\u001b[0m\u001b[0;34m=\u001b[0m\u001b[0;32mTrue\u001b[0m\u001b[0;34m)\u001b[0m\u001b[0;34m\u001b[0m\u001b[0;34m\u001b[0m\u001b[0m\n\u001b[1;32m      5\u001b[0m \u001b[0;34m\u001b[0m\u001b[0m\n",
            "\u001b[0;31mNameError\u001b[0m: name 'tf' is not defined"
          ]
        }
      ]
    }
  ]
}