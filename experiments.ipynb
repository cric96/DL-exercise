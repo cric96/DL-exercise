{
 "cells": [
  {
   "cell_type": "markdown",
   "id": "9718a8e8-7a57-42f4-8419-be4a6d3bfb11",
   "metadata": {},
   "source": [
    "# Experiments with DL library in python\n",
    "This notebook contains some experiments of library usage in python"
   ]
  },
  {
   "cell_type": "markdown",
   "id": "5c749684-774a-4ad5-ba08-bcff0873bad3",
   "metadata": {},
   "source": [
    "# Tensorflow\n",
    "[TensorFlow](https://www.tensorflow.org/) is an end-to-end open source platform for machine learning. It has a comprehensive, flexible ecosystem of tools, libraries and community resources that lets researchers push the state-of-the-art in ML and developers easily build and deploy ML powered applications.\n"
   ]
  },
  {
   "cell_type": "markdown",
   "id": "59b6d84d-105c-4f24-9ebe-8e402f6ed884",
   "metadata": {},
   "source": [
    "## Imports and renaming"
   ]
  },
  {
   "cell_type": "code",
   "execution_count": 8,
   "id": "0aeb443f-1314-46cd-afbc-f1faae1f876b",
   "metadata": {},
   "outputs": [],
   "source": [
    "import tensorflow as tf\n",
    "K = tf.keras\n",
    "L = K.layers\n",
    "seq = K.Sequential\n",
    "tensor = tf.constant"
   ]
  },
  {
   "cell_type": "markdown",
   "id": "72279091-8587-4827-9b21-063e17ee0885",
   "metadata": {},
   "source": [
    "## Tensors handling"
   ]
  },
  {
   "cell_type": "code",
   "execution_count": 30,
   "id": "06470ee3-d3f6-4f47-be3a-f46f2202e165",
   "metadata": {},
   "outputs": [
    {
     "name": "stdout",
     "output_type": "stream",
     "text": [
      "tf.Tensor([[5 5]], shape=(1, 2), dtype=int32)\n",
      "tf.Tensor([[4 6]], shape=(1, 2), dtype=int32)\n",
      "tf.Tensor([[-3 -1]], shape=(1, 2), dtype=int32)\n",
      "tf.Tensor([[8 6]], shape=(1, 2), dtype=int32)\n",
      "tf.Tensor([[16  9]], shape=(1, 2), dtype=int32)\n",
      "tf.Tensor([[8]], shape=(1, 1), dtype=int32)\n"
     ]
    }
   ],
   "source": [
    "## Creation\n",
    "a = tensor([[1, 2]])\n",
    "b = tensor([[4, 3]])\n",
    "## Basic linear operation\n",
    "print(a + b) ## 1 + 4, 3 + 2 => [5, 5]\n",
    "print(a * b) ## 1 * 4, 2 * 3 => [4, 6]\n",
    "print(a - b) ## 1 - 4, 2 - 3 => [-3, -1]\n",
    "print(b * 2) ## 4 * 2, 3 * 2 => [8, 6]\n",
    "print(b ** 2) ## 4 ^ 2, 3 ^ 2 => [16, 9]\n",
    "c = tensor([[2], [3]])\n",
    "print(a @ c) ## matrix multiplication, so: 1 * 2 + 3 * 2 = 8"
   ]
  },
  {
   "cell_type": "markdown",
   "id": "7133afab-2916-4980-a57d-ba0911c78123",
   "metadata": {},
   "source": [
    "## Gradients"
   ]
  },
  {
   "cell_type": "markdown",
   "id": "9a1e0130-35f4-4700-926f-3301c00b2185",
   "metadata": {},
   "source": [
    "### Gradients evaluation in multiple model not linked between each other"
   ]
  },
  {
   "cell_type": "code",
   "execution_count": 49,
   "id": "1cd0d453-d906-469f-a446-f74a90ca3849",
   "metadata": {},
   "outputs": [
    {
     "name": "stdout",
     "output_type": "stream",
     "text": [
      "[[<tf.Tensor: shape=(2, 8), dtype=float32, numpy=\n",
      "array([[-0.29641518, -0.43776062,  1.0762619 ,  0.15499532, -0.97992945,\n",
      "         0.71167135,  1.2409165 , -0.58520615],\n",
      "       [-0.59283036, -0.87552124,  2.1525238 ,  0.30999064, -1.9598589 ,\n",
      "         1.4233427 ,  2.481833  , -1.1704123 ]], dtype=float32)>, <tf.Tensor: shape=(8,), dtype=float32, numpy=\n",
      "array([-0.29641518, -0.43776062,  1.0762619 ,  0.15499532, -0.97992945,\n",
      "        0.71167135,  1.2409165 , -0.58520615], dtype=float32)>], [<tf.Tensor: shape=(8, 10), dtype=float32, numpy=\n",
      "array([[ 1.7901176 ,  1.7901176 ,  1.7901176 ,  1.7901176 ,  1.7901176 ,\n",
      "         1.7901176 ,  1.7901176 ,  1.7901176 ,  1.7901176 ,  1.7901176 ],\n",
      "       [ 0.03700554,  0.03700554,  0.03700554,  0.03700554,  0.03700554,\n",
      "         0.03700554,  0.03700554,  0.03700554,  0.03700554,  0.03700554],\n",
      "       [-0.05117702, -0.05117702, -0.05117702, -0.05117702, -0.05117702,\n",
      "        -0.05117702, -0.05117702, -0.05117702, -0.05117702, -0.05117702],\n",
      "       [-0.14827704, -0.14827704, -0.14827704, -0.14827704, -0.14827704,\n",
      "        -0.14827704, -0.14827704, -0.14827704, -0.14827704, -0.14827704],\n",
      "       [-1.6697855 , -1.6697855 , -1.6697855 , -1.6697855 , -1.6697855 ,\n",
      "        -1.6697855 , -1.6697855 , -1.6697855 , -1.6697855 , -1.6697855 ],\n",
      "       [-0.42864668, -0.42864668, -0.42864668, -0.42864668, -0.42864668,\n",
      "        -0.42864668, -0.42864668, -0.42864668, -0.42864668, -0.42864668],\n",
      "       [ 0.53989935,  0.53989935,  0.53989935,  0.53989935,  0.53989935,\n",
      "         0.53989935,  0.53989935,  0.53989935,  0.53989935,  0.53989935],\n",
      "       [-0.33510262, -0.33510262, -0.33510262, -0.33510262, -0.33510262,\n",
      "        -0.33510262, -0.33510262, -0.33510262, -0.33510262, -0.33510262]],\n",
      "      dtype=float32)>, <tf.Tensor: shape=(10,), dtype=float32, numpy=array([1., 1., 1., 1., 1., 1., 1., 1., 1., 1.], dtype=float32)>]]\n"
     ]
    }
   ],
   "source": [
    "model_a = seq(L.Dense(8))\n",
    "model_b = seq(L.Dense(10))\n",
    "with tf.GradientTape() as g:\n",
    "    res = model_a(tensor([[1, 2]]))\n",
    "    out = model_b(res)\n",
    "    gradients = g.gradient(out, [model_a.weights, model_b.weights])\n",
    "    print(gradients)"
   ]
  }
 ],
 "metadata": {
  "kernelspec": {
   "display_name": "Python 3",
   "language": "python",
   "name": "python3"
  },
  "language_info": {
   "codemirror_mode": {
    "name": "ipython",
    "version": 3
   },
   "file_extension": ".py",
   "mimetype": "text/x-python",
   "name": "python",
   "nbconvert_exporter": "python",
   "pygments_lexer": "ipython3",
   "version": "3.8.8"
  }
 },
 "nbformat": 4,
 "nbformat_minor": 5
}
